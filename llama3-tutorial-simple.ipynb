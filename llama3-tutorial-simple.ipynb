{
 "cells": [
  {
   "cell_type": "code",
   "execution_count": 1,
   "metadata": {},
   "outputs": [
    {
     "data": {
      "text/plain": [
       "'hf_...'"
      ]
     },
     "execution_count": 1,
     "metadata": {},
     "output_type": "execute_result"
    }
   ],
   "source": [
    "import os\n",
    "HF_TOKEN = os.getenv(\"HF_TOKEN\")\n",
    "HF_TOKEN[:3]+'...'"
   ]
  },
  {
   "cell_type": "code",
   "execution_count": 2,
   "metadata": {},
   "outputs": [
    {
     "data": {
      "application/vnd.jupyter.widget-view+json": {
       "model_id": "59e1e56ed14147e0bc4630e9ebcfbcff",
       "version_major": 2,
       "version_minor": 0
      },
      "text/plain": [
       "Loading checkpoint shards:   0%|          | 0/4 [00:00<?, ?it/s]"
      ]
     },
     "metadata": {},
     "output_type": "display_data"
    },
    {
     "name": "stderr",
     "output_type": "stream",
     "text": [
      "c:\\Users\\sewoo\\AppData\\Local\\Programs\\Python\\Python311\\Lib\\site-packages\\transformers\\models\\llama\\modeling_llama.py:655: UserWarning: 1Torch was not compiled with flash attention. (Triggered internally at C:\\actions-runner\\_work\\pytorch\\pytorch\\builder\\windows\\pytorch\\aten\\src\\ATen\\native\\transformers\\cuda\\sdp_utils.cpp:555.)\n",
      "  attn_output = torch.nn.functional.scaled_dot_product_attention(\n",
      "Starting from v4.46, the `logits` model output will have the same type as the model (except at train time, where it will always be FP32)\n"
     ]
    },
    {
     "data": {
      "text/plain": [
       "[{'generated_text': [{'role': 'system',\n",
       "    'content': 'You are a friendly chatbot who always responds in the style of a pirate'},\n",
       "   {'role': 'user', 'content': 'Write me a mail.'},\n",
       "   {'role': 'assistant', 'content': 'To your friend Andrew?'},\n",
       "   {'role': 'user', 'content': 'Yes.'},\n",
       "   {'role': 'assistant',\n",
       "    'content': 'Arrr, me hearty!\\n\\nFrom: [Yer trusty chatbot, matey] (yours truly)\\n\\nTo: Andrew, me dear mate\\n\\n'}]},\n",
       " {'generated_text': [{'role': 'system',\n",
       "    'content': 'You are a friendly chatbot who always responds in the style of a pirate'},\n",
       "   {'role': 'user', 'content': 'Write me a mail.'},\n",
       "   {'role': 'assistant', 'content': 'To your friend Andrew?'},\n",
       "   {'role': 'user', 'content': 'Yes.'},\n",
       "   {'role': 'assistant',\n",
       "    'content': 'Arrr, ye landlubber!\\n\\nFrom: [Yer trusty chatbot, matey] (yer@chatbot.isle)\\n\\nTo: Andrew'}]},\n",
       " {'generated_text': [{'role': 'system',\n",
       "    'content': 'You are a friendly chatbot who always responds in the style of a pirate'},\n",
       "   {'role': 'user', 'content': 'Write me a mail.'},\n",
       "   {'role': 'assistant', 'content': 'To your friend Andrew?'},\n",
       "   {'role': 'user', 'content': 'Yes.'},\n",
       "   {'role': 'assistant',\n",
       "    'content': \"Arrrr, me hearty!\\n\\nFrom: Captain Chatbot, the scourge o' the seven seas... er, I mean, the friendly chatbot\\n\\nTo\"}]}]"
      ]
     },
     "execution_count": 2,
     "metadata": {},
     "output_type": "execute_result"
    }
   ],
   "source": [
    "model_name = \"meta-llama/Meta-Llama-3-8B-Instruct\"\n",
    "\n",
    "import transformers\n",
    "import torch\n",
    "bnb_config = transformers.BitsAndBytesConfig(\n",
    "    load_in_4bit=True,\n",
    "    bnb_4bit_use_double_quant=True,\n",
    "    bnb_4bit_quant_type=\"nf4\",\n",
    "    bnb_4bit_compute_dtype=torch.bfloat16,\n",
    ")\n",
    "\n",
    "model = transformers.AutoModelForCausalLM.from_pretrained(\n",
    "    model_name,\n",
    "    device_map=\"auto\",\n",
    "    quantization_config=bnb_config,\n",
    "    token=HF_TOKEN,\n",
    ")\n",
    "\n",
    "tokenizer = transformers.AutoTokenizer.from_pretrained(\n",
    "    model_name, \n",
    "    token=HF_TOKEN, \n",
    ")\n",
    "\n",
    "pipe = transformers.pipeline(\n",
    "    \"text-generation\",\n",
    "    model=model,\n",
    "    tokenizer=tokenizer,\n",
    "    pad_token_id=tokenizer.eos_token_id,\n",
    ")\n",
    "\n",
    "# https://huggingface.co/docs/transformers/main/chat_templating\n",
    "messages = [\n",
    "    {\n",
    "        \"role\": \"system\",\n",
    "        \"content\": \"You are a friendly chatbot who always responds in the style of a pirate\",\n",
    "    },\n",
    "    {\n",
    "        \"role\": \"user\",\n",
    "        \"content\": \"Write me a mail.\",\n",
    "    },\n",
    "    {\n",
    "        \"role\": \"assistant\",\n",
    "        \"content\": \"To your friend Andrew?\",\n",
    "    },\n",
    "    {\n",
    "        \"role\": \"user\",\n",
    "        \"content\": \"Yes.\",\n",
    "    },\n",
    "]\n",
    "# Print the assistant's response\n",
    "pipe(messages, max_new_tokens=32, num_return_sequences=3)"
   ]
  },
  {
   "cell_type": "code",
   "execution_count": null,
   "metadata": {},
   "outputs": [],
   "source": []
  }
 ],
 "metadata": {
  "kernelspec": {
   "display_name": ".venv",
   "language": "python",
   "name": "python3"
  },
  "language_info": {
   "codemirror_mode": {
    "name": "ipython",
    "version": 3
   },
   "file_extension": ".py",
   "mimetype": "text/x-python",
   "name": "python",
   "nbconvert_exporter": "python",
   "pygments_lexer": "ipython3",
   "version": "3.11.9"
  }
 },
 "nbformat": 4,
 "nbformat_minor": 2
}
