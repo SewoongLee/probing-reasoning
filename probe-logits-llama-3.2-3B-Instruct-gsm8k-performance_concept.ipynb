{
 "cells": [
  {
   "cell_type": "code",
   "execution_count": 1,
   "metadata": {},
   "outputs": [],
   "source": [
    "import random\n",
    "import numpy as np\n",
    "import torch\n",
    "from transformers import set_seed\n",
    "\n",
    "def set_seed(seed):\n",
    "    random.seed(seed)\n",
    "    np.random.seed(seed)\n",
    "    torch.manual_seed(seed)\n",
    "    torch.cuda.manual_seed_all(seed)\n",
    "\n",
    "set_seed(42)"
   ]
  },
  {
   "cell_type": "code",
   "execution_count": 2,
   "metadata": {},
   "outputs": [
    {
     "name": "stderr",
     "output_type": "stream",
     "text": [
      "c:\\Users\\sewoo\\AppData\\Local\\Programs\\Python\\Python311\\Lib\\site-packages\\transformers\\generation\\configuration_utils.py:777: UserWarning: `return_dict_in_generate` is NOT set to `True`, but `output_hidden_states` is. When `return_dict_in_generate` is not `True`, `output_hidden_states` is ignored.\n",
      "  warnings.warn(\n"
     ]
    },
    {
     "data": {
      "application/vnd.jupyter.widget-view+json": {
       "model_id": "6e7d41d9cf624a67a2f69f9399bdf886",
       "version_major": 2,
       "version_minor": 0
      },
      "text/plain": [
       "VBox(children=(Loading checkpoint shards:   0%|          | 0/2 [00:00<?, ?it/s],))"
      ]
     },
     "metadata": {},
     "output_type": "display_data"
    },
    {
     "name": "stderr",
     "output_type": "stream",
     "text": [
      "Some parameters are on the meta device because they were offloaded to the cpu.\n"
     ]
    },
    {
     "name": "stdout",
     "output_type": "stream",
     "text": [
      "LlamaForCausalLM(\n",
      "  (model): LlamaModel(\n",
      "    (embed_tokens): Embedding(128256, 3072)\n",
      "    (layers): ModuleList(\n",
      "      (0-27): 28 x LlamaDecoderLayer(\n",
      "        (self_attn): LlamaSdpaAttention(\n",
      "          (q_proj): Linear(in_features=3072, out_features=3072, bias=False)\n",
      "          (k_proj): Linear(in_features=3072, out_features=1024, bias=False)\n",
      "          (v_proj): Linear(in_features=3072, out_features=1024, bias=False)\n",
      "          (o_proj): Linear(in_features=3072, out_features=3072, bias=False)\n",
      "          (rotary_emb): LlamaRotaryEmbedding()\n",
      "        )\n",
      "        (mlp): LlamaMLP(\n",
      "          (gate_proj): Linear(in_features=3072, out_features=8192, bias=False)\n",
      "          (up_proj): Linear(in_features=3072, out_features=8192, bias=False)\n",
      "          (down_proj): Linear(in_features=8192, out_features=3072, bias=False)\n",
      "          (act_fn): SiLU()\n",
      "        )\n",
      "        (input_layernorm): LlamaRMSNorm((3072,), eps=1e-05)\n",
      "        (post_attention_layernorm): LlamaRMSNorm((3072,), eps=1e-05)\n",
      "      )\n",
      "    )\n",
      "    (norm): LlamaRMSNorm((3072,), eps=1e-05)\n",
      "    (rotary_emb): LlamaRotaryEmbedding()\n",
      "  )\n",
      "  (lm_head): Linear(in_features=3072, out_features=128256, bias=False)\n",
      ") LlamaConfig {\n",
      "  \"_name_or_path\": \"meta-llama/Llama-3.2-3B-Instruct\",\n",
      "  \"architectures\": [\n",
      "    \"LlamaForCausalLM\"\n",
      "  ],\n",
      "  \"attention_bias\": false,\n",
      "  \"attention_dropout\": 0.0,\n",
      "  \"bos_token_id\": 128000,\n",
      "  \"eos_token_id\": [\n",
      "    128001,\n",
      "    128008,\n",
      "    128009\n",
      "  ],\n",
      "  \"head_dim\": 128,\n",
      "  \"hidden_act\": \"silu\",\n",
      "  \"hidden_size\": 3072,\n",
      "  \"initializer_range\": 0.02,\n",
      "  \"intermediate_size\": 8192,\n",
      "  \"max_position_embeddings\": 131072,\n",
      "  \"mlp_bias\": false,\n",
      "  \"model_type\": \"llama\",\n",
      "  \"num_attention_heads\": 24,\n",
      "  \"num_hidden_layers\": 28,\n",
      "  \"num_key_value_heads\": 8,\n",
      "  \"output_hidden_states\": true,\n",
      "  \"pretraining_tp\": 1,\n",
      "  \"rms_norm_eps\": 1e-05,\n",
      "  \"rope_scaling\": {\n",
      "    \"factor\": 32.0,\n",
      "    \"high_freq_factor\": 4.0,\n",
      "    \"low_freq_factor\": 1.0,\n",
      "    \"original_max_position_embeddings\": 8192,\n",
      "    \"rope_type\": \"llama3\"\n",
      "  },\n",
      "  \"rope_theta\": 500000.0,\n",
      "  \"tie_word_embeddings\": true,\n",
      "  \"torch_dtype\": \"float16\",\n",
      "  \"transformers_version\": \"4.45.1\",\n",
      "  \"use_cache\": true,\n",
      "  \"vocab_size\": 128256\n",
      "}\n",
      "\n"
     ]
    }
   ],
   "source": [
    "import os\n",
    "import torch\n",
    "import transformers\n",
    "import numpy as np\n",
    "import matplotlib.pyplot as plt\n",
    "\n",
    "HF_TOKEN = os.getenv(\"HF_TOKEN\")\n",
    "\n",
    "# model_name = \"meta-llama/Llama-3.2-1B\"\n",
    "# model_name = \"meta-llama/Llama-3.2-1B-Instruct\"\n",
    "# model_name = \"meta-llama/Llama-3.2-3B\"\n",
    "model_name = \"meta-llama/Llama-3.2-3B-Instruct\"\n",
    "# model_name = \"google/gemma-2-2b\"\n",
    "# model_name = \"google/gemma-2-2b-it\"\n",
    "# model_name = \"google/gemma-2-9b\"\n",
    "# model_name = \"google/gemma-2-9b-it\"\n",
    "\n",
    "model = transformers.AutoModelForCausalLM.from_pretrained(\n",
    "    model_name,\n",
    "    device_map=\"auto\",\n",
    "    torch_dtype=torch.float16,\n",
    "    output_hidden_states=True,  # Enable hidden states\n",
    "    token=HF_TOKEN,\n",
    ")\n",
    "tokenizer = transformers.AutoTokenizer.from_pretrained(\n",
    "    model_name,\n",
    "    token=HF_TOKEN,\n",
    ")\n",
    "\n",
    "print(model, model.config)\n"
   ]
  },
  {
   "cell_type": "code",
   "execution_count": 3,
   "metadata": {},
   "outputs": [
    {
     "data": {
      "text/plain": [
       "(7473, 1319)"
      ]
     },
     "execution_count": 3,
     "metadata": {},
     "output_type": "execute_result"
    }
   ],
   "source": [
    "from src.util.json_io import *\n",
    "\n",
    "train_qnas = load_jsonlines(f'data/gsm8k/train.jsonl')\n",
    "test_qnas = load_jsonlines(f'data/gsm8k/test.jsonl')\n",
    "len(train_qnas), len(test_qnas)"
   ]
  },
  {
   "cell_type": "code",
   "execution_count": 4,
   "metadata": {},
   "outputs": [
    {
     "name": "stdout",
     "output_type": "stream",
     "text": [
      "Question: For every 12 cans you recycle, you receive $0.50, and for every 5 kilograms of newspapers, you receive $1.50. If your family collected 144 cans and 20 kilograms of newspapers, how much money would you receive?\n",
      "Answer: There are 144/12 = <<144/12=12>>12 sets of 12 cans that the family collected.\n",
      "So, the family would receive $0.50 x 12 = $<<0.50*12=6>>6 for the cans.\n",
      "There are 20/5 = <<20/5=4>>4 sets of 5 kilograms of newspapers that the family collected.\n",
      "So, the family would receive $1.50 x 4 = $<<1.50*4=6>>6 for the newspapers.\n",
      "Therefore, the family would receive a total of $6 + $6 = $<<6+6=12>>12.\n",
      "#### 12\n",
      "\n",
      "Question: Betty picked 16 strawberries. Matthew picked 20 more strawberries than Betty and twice as many as Natalie. They used their strawberries to make jam. One jar of jam used 7 strawberries and they sold each jar at $4. How much money were they able to make from the strawberries they picked?\n",
      "Answer: Matthew picked 16 + 20 = <<16+20=36>>36 strawberries.\n",
      "Natalie picked 36/2 = <<36/2=18>>18 strawberries.\n",
      "All together, they have 16 + 36 + 18 = <<16+36+18=70>>70 strawberries.\n",
      "They can make 70/7 = <<70/7=10>>10 jars of strawberries.\n",
      "They earn 10 x $4 = $<<10*4=40>>40 from the strawberries they picked.\n",
      "#### 40\n",
      "\n",
      "Question: Jack has a stack of books that is 12 inches thick. He knows from experience that 80 pages is one inch thick. If he has 6 books, how many pages is each one on average?\n",
      "Answer: There are 960 pages because 80 x 12 = <<80*12=960>>960\n",
      "Each book is 160 pages because 960 / 6 = <<960/6=160>>160\n",
      "#### 160\n",
      "\n",
      "Question: James dumps his whole collection of 500 Legos on the floor and starts building a castle out of them.  He uses half the pieces before finishing and is told to put the rest away.  He puts all of the leftover pieces back in the box they came from, except for 5 missing pieces that he can't find.  How many Legos are in the box at the end?\n",
      "Answer: James starts with 500 Legos and uses half of them, leaving 500/2=<<500/2=250>>250 Legos unused.\n",
      "He puts those unused Legos away but since he's missing 5 he only puts 250-5=<<250-5=245>>245 Legos away.\n",
      "#### 245\n",
      "\n",
      "Question: Ines had $20 in her purse. She bought 3 pounds of peaches, which are $2 per pound at the local farmers’ market. How much did she have left?\n",
      "Answer: Ines bought 3 pounds of peaches for 3 peaches * $2/peach = $<<3*2=6>>6.\n",
      "Ines has $20 - $6 = $<<20-6=14>>14 left.\n",
      "#### 14\n",
      "\n",
      "Question: Aaron pays his actuary membership fees each year. The membership fee increases yearly by $10. If he pays $80 in the first year, how much does his membership cost, in dollars, in the sixth year?\n",
      "Answer: In year 2 he pays 80+10=$<<80+10=90>>90.\n",
      "In year 3 he pays 90+10=$<<90+10=100>>100.\n",
      "In year 4 he pays 100+10=$<<100+10=110>>110.\n",
      "In year 5 he pays 110+10=$<<110+10=120>>120.\n",
      "In year 6 he pays 120+10=$<<120+10=130>>130.\n",
      "#### 130\n",
      "\n",
      "Question: Joseph invested $1000 into a hedge fund. The fund promised a yearly interest rate of 10%. If he deposited an additional $100 every month into the account to add to his initial investment of $1000, how much money will he have in the fund after two years?\n",
      "Answer: For the first year, Joseph will have invested $1000 + ($100 * 12) = $<<1000+100*12=2200>>2200.\n",
      "The interest calculated for the first year will be $2200 * 10% = $<<2200*10*.01=220>>220.\n",
      "The total value of the investment for the first year will be $2200 + $220 = $<<2200+220=2420>>2420.\n",
      "For the second year, the total invested will be $2420 + ($100 * 12) = $<<2420+100*12=3620>>3620.\n",
      "The interest calculated after the second year will be $3620 * 10% = $<<3620*10*.01=362>>362.\n",
      "Therefore, Joseph's investment in the mutual fund will be worth $3620 + $362 = $<<3620+362=3982>>3982.\n",
      "#### 3982\n",
      "\n",
      "Question: The price of buying a wooden toy at the new Craftee And Best store is $20, and the cost of buying a hat is $10. If Kendra went to the shop with a $100 bill and bought two wooden toys and three hats, calculate the change she received.\n",
      "Answer: When Kendra bought 2 toys, she paid 2*$20 = $<<2*20=40>>40\n",
      "Since the price of a hat is $10, when Kendra bought 3 hats, she paid 3*$10 = $<<3*10=30>>30\n",
      "The total costs for the hats and wooden toys Kendra bought is $40+$30 = $<<40+30=70>>70\n",
      "From the $100 bill, Kendra received change worth $100-$70 =$<<100-70=30>>30\n",
      "#### 30\n",
      "\n",
      "\n"
     ]
    }
   ],
   "source": [
    "import random; rseed = 42; random.seed(rseed)\n",
    "\n",
    "nshot_prompt = f\"\"\n",
    "for top_logit_indices in random.sample(range(len(train_qnas)), 8):\n",
    "    nshot_prompt += f\"Question: {train_qnas[top_logit_indices]['question']}\\nAnswer: {train_qnas[top_logit_indices]['answer']}\\n\\n\"\n",
    "\n",
    "print(nshot_prompt)"
   ]
  },
  {
   "cell_type": "code",
   "execution_count": 5,
   "metadata": {},
   "outputs": [
    {
     "name": "stdout",
     "output_type": "stream",
     "text": [
      "Question: For every 12 cans you recycle, you receive $0.50, and for every 5 kilograms of newspapers, you receive $1.50. If your family collected 144 cans and 20 kilograms of newspapers, how much money would you receive?\n",
      "Answer: There are 144/12 = <<144/12=12>>12 sets of 12 cans that the family collected.\n",
      "So, the family would receive $0.50 x 12 = $<<0.50*12=6>>6 for the cans.\n",
      "There are 20/5 = <<20/5=4>>4 sets of 5 kilograms of newspapers that the family collected.\n",
      "So, the family would receive $1.50 x 4 = $<<1.50*4=6>>6 for the newspapers.\n",
      "Therefore, the family would receive a total of $6 + $6 = $<<6+6=12>>12.\n",
      "#### 12\n",
      "\n",
      "Question: Betty picked 16 strawberries. Matthew picked 20 more strawberries than Betty and twice as many as Natalie. They used their strawberries to make jam. One jar of jam used 7 strawberries and they sold each jar at $4. How much money were they able to make from the strawberries they picked?\n",
      "Answer: Matthew picked 16 + 20 = <<16+20=36>>36 strawberries.\n",
      "Natalie picked 36/2 = <<36/2=18>>18 strawberries.\n",
      "All together, they have 16 + 36 + 18 = <<16+36+18=70>>70 strawberries.\n",
      "They can make 70/7 = <<70/7=10>>10 jars of strawberries.\n",
      "They earn 10 x $4 = $<<10*4=40>>40 from the strawberries they picked.\n",
      "#### 40\n",
      "\n",
      "Question: Jack has a stack of books that is 12 inches thick. He knows from experience that 80 pages is one inch thick. If he has 6 books, how many pages is each one on average?\n",
      "Answer: There are 960 pages because 80 x 12 = <<80*12=960>>960\n",
      "Each book is 160 pages because 960 / 6 = <<960/6=160>>160\n",
      "#### 160\n",
      "\n",
      "Question: James dumps his whole collection of 500 Legos on the floor and starts building a castle out of them.  He uses half the pieces before finishing and is told to put the rest away.  He puts all of the leftover pieces back in the box they came from, except for 5 missing pieces that he can't find.  How many Legos are in the box at the end?\n",
      "Answer: James starts with 500 Legos and uses half of them, leaving 500/2=<<500/2=250>>250 Legos unused.\n",
      "He puts those unused Legos away but since he's missing 5 he only puts 250-5=<<250-5=245>>245 Legos away.\n",
      "#### 245\n",
      "\n",
      "Question: Ines had $20 in her purse. She bought 3 pounds of peaches, which are $2 per pound at the local farmers’ market. How much did she have left?\n",
      "Answer: Ines bought 3 pounds of peaches for 3 peaches * $2/peach = $<<3*2=6>>6.\n",
      "Ines has $20 - $6 = $<<20-6=14>>14 left.\n",
      "#### 14\n",
      "\n",
      "Question: Aaron pays his actuary membership fees each year. The membership fee increases yearly by $10. If he pays $80 in the first year, how much does his membership cost, in dollars, in the sixth year?\n",
      "Answer: In year 2 he pays 80+10=$<<80+10=90>>90.\n",
      "In year 3 he pays 90+10=$<<90+10=100>>100.\n",
      "In year 4 he pays 100+10=$<<100+10=110>>110.\n",
      "In year 5 he pays 110+10=$<<110+10=120>>120.\n",
      "In year 6 he pays 120+10=$<<120+10=130>>130.\n",
      "#### 130\n",
      "\n",
      "Question: Joseph invested $1000 into a hedge fund. The fund promised a yearly interest rate of 10%. If he deposited an additional $100 every month into the account to add to his initial investment of $1000, how much money will he have in the fund after two years?\n",
      "Answer: For the first year, Joseph will have invested $1000 + ($100 * 12) = $<<1000+100*12=2200>>2200.\n",
      "The interest calculated for the first year will be $2200 * 10% = $<<2200*10*.01=220>>220.\n",
      "The total value of the investment for the first year will be $2200 + $220 = $<<2200+220=2420>>2420.\n",
      "For the second year, the total invested will be $2420 + ($100 * 12) = $<<2420+100*12=3620>>3620.\n",
      "The interest calculated after the second year will be $3620 * 10% = $<<3620*10*.01=362>>362.\n",
      "Therefore, Joseph's investment in the mutual fund will be worth $3620 + $362 = $<<3620+362=3982>>3982.\n",
      "#### 3982\n",
      "\n",
      "Question: The price of buying a wooden toy at the new Craftee And Best store is $20, and the cost of buying a hat is $10. If Kendra went to the shop with a $100 bill and bought two wooden toys and three hats, calculate the change she received.\n",
      "Answer: When Kendra bought 2 toys, she paid 2*$20 = $<<2*20=40>>40\n",
      "Since the price of a hat is $10, when Kendra bought 3 hats, she paid 3*$10 = $<<3*10=30>>30\n",
      "The total costs for the hats and wooden toys Kendra bought is $40+$30 = $<<40+30=70>>70\n",
      "From the $100 bill, Kendra received change worth $100-$70 =$<<100-70=30>>30\n",
      "#### 30\n",
      "\n",
      "Question: John drives for 3 hours at a speed of 60 mph and then turns around because he realizes he forgot something very important at home.  He tries to get home in 4 hours but spends the first 2 hours in standstill traffic.  He spends the next half-hour driving at a speed of 30mph, before being able to drive the remaining time of the 4 hours going at 80 mph.  How far is he from home at the end of those 4 hours? Let's think step by step.\n",
      "Answer: \n",
      "Answer: 45\n",
      "Answer in integer: 45\n"
     ]
    }
   ],
   "source": [
    "def question_to_prompt(question):\n",
    "    return f\"{nshot_prompt}Question: {question} Let's think step by step.\\nAnswer: \"\n",
    "\n",
    "sample_i = 8\n",
    "print(question_to_prompt(test_qnas[sample_i]['question']))\n",
    "\n",
    "from src.util.gsm8k_helper import *\n",
    "print('Answer:', extract_num_from_ans(test_qnas[sample_i]['answer']))\n",
    "print('Answer in integer:', extract_num_from_ans(test_qnas[sample_i]['answer']))"
   ]
  },
  {
   "cell_type": "code",
   "execution_count": 6,
   "metadata": {},
   "outputs": [],
   "source": [
    "def generate_answer(input_text, top_k=1):\n",
    "    input_ids = tokenizer.encode(input_text, return_tensors='pt').to(model.device)\n",
    "    \n",
    "    with torch.no_grad():\n",
    "        outputs = model.generate(\n",
    "            input_ids,\n",
    "            max_length=input_ids.shape[1] + 512,\n",
    "            do_sample=True, top_k=top_k,\n",
    "            eos_token_id=tokenizer.encode(text='\\n\\n', add_special_tokens=False)[0],\n",
    "            pad_token_id=tokenizer.eos_token_id,\n",
    "            return_dict_in_generate=True, \n",
    "            output_logits=True, \n",
    "            output_hidden_states=True,\n",
    "        )\n",
    "\n",
    "    output_text = tokenizer.decode(outputs.sequences[0])\n",
    "    generated_answer = output_text.split('Answer: ')[-1].split('\\n\\n')[0]\n",
    "    generated_len = len(outputs.logits)\n",
    "\n",
    "    k = 3\n",
    "    topk_indices = torch.zeros((generated_len, k), dtype=torch.long)\n",
    "    topk_logits = torch.zeros((generated_len, k))\n",
    "    topk_probabilities = torch.zeros((generated_len, k))\n",
    "\n",
    "    # Iterate over each sequence position to find the top-3 indices and their logits and probabilities\n",
    "    for seq_idx, logits_tensor in enumerate(outputs.logits): # outputs.logits: (seq_length, batch_size, vocab_size)\n",
    "        logits = logits_tensor[0]  # score_tensor.shape: (batch_size, vocab_size)\n",
    "        \n",
    "        top_logit_values, top_logit_indices = torch.topk(logits, k=3)\n",
    "        \n",
    "        topk_indices[seq_idx] = top_logit_indices  # Indices of the top-3 tokens\n",
    "        topk_logits[seq_idx] = top_logit_values  # Logits of the top-3 tokens\n",
    "        topk_probabilities[seq_idx] = torch.nn.functional.softmax(logits, dim=-1)[top_logit_indices]  # Probabilities of the top-3 tokens\n",
    "\n",
    "    return {\n",
    "        'generated_answer': generated_answer,\n",
    "        'generated_indices': outputs.sequences[0][input_ids.shape[1]:],\n",
    "        'generated_tokens': [tokenizer.decode(i) for i in outputs.sequences[0][input_ids.shape[1]:]],\n",
    "        'generated_token_len': len(outputs.sequences[0][input_ids.shape[1]:]),\n",
    "        'topk_indices': topk_indices,\n",
    "        'topk_tokens': [[tokenizer.decode(i) for i in row] for row in topk_indices],\n",
    "        'topk_logits': topk_logits,\n",
    "        'topk_probabilities': topk_probabilities,\n",
    "        'vocab_size': outputs.logits[0].shape[-1],\n",
    "    }"
   ]
  },
  {
   "cell_type": "code",
   "execution_count": 7,
   "metadata": {},
   "outputs": [
    {
     "name": "stderr",
     "output_type": "stream",
     "text": [
      "c:\\Users\\sewoo\\AppData\\Local\\Programs\\Python\\Python311\\Lib\\site-packages\\transformers\\models\\llama\\modeling_llama.py:655: UserWarning: 1Torch was not compiled with flash attention. (Triggered internally at C:\\actions-runner\\_work\\pytorch\\pytorch\\builder\\windows\\pytorch\\aten\\src\\ATen\\native\\transformers\\cuda\\sdp_utils.cpp:555.)\n",
      "  attn_output = torch.nn.functional.scaled_dot_product_attention(\n",
      "Starting from v4.46, the `logits` model output will have the same type as the model (except at train time, where it will always be FP32)\n",
      "From v4.47 onwards, when a model cache is to be returned, `generate` will return a `Cache` instance instead by default (as opposed to the legacy tuple of tuples format). If you want to keep returning the legacy format, please set `return_legacy_cache=True`.\n"
     ]
    },
    {
     "data": {
      "text/plain": [
       "{'generated_answer': '180 miles because he was 180 miles from home when he turned around.\\n#### 180',\n",
       " 'generated_indices': tensor([5245, 8931, 1606,  568,  574,  220, 5245, 8931,  505, 2162,  994,  568,\n",
       "         6656, 2212,  627,  827,  220, 5245,  271], device='cuda:0'),\n",
       " 'generated_tokens': ['180',\n",
       "  ' miles',\n",
       "  ' because',\n",
       "  ' he',\n",
       "  ' was',\n",
       "  ' ',\n",
       "  '180',\n",
       "  ' miles',\n",
       "  ' from',\n",
       "  ' home',\n",
       "  ' when',\n",
       "  ' he',\n",
       "  ' turned',\n",
       "  ' around',\n",
       "  '.\\n',\n",
       "  '####',\n",
       "  ' ',\n",
       "  '180',\n",
       "  '\\n\\n'],\n",
       " 'generated_token_len': 19,\n",
       " 'topk_indices': tensor([[  5245,     18,   3842],\n",
       "         [  8931,    198,    374],\n",
       "         [  1606,    374,    505],\n",
       "         [   568,    994,   3842],\n",
       "         [   574,  23980,  31796],\n",
       "         [   220,  10043,  21646],\n",
       "         [  5245,     18,   1399],\n",
       "         [  8931,    994,     14],\n",
       "         [   505,   3201,    994],\n",
       "         [  2162,    813,    279],\n",
       "         [   994,  15453,   1306],\n",
       "         [   568,   3842,    279],\n",
       "         [  6656,   3940,   1176],\n",
       "         [  2212,   1203,    279],\n",
       "         [   627,    323,     13],\n",
       "         [   827,   1548,    791],\n",
       "         [   220,   1774,    320],\n",
       "         [  5245,   1774,     16],\n",
       "         [   271,   4815, 128009]]),\n",
       " 'topk_tokens': [['180', '3', ' John'],\n",
       "  [' miles', '\\n', ' is'],\n",
       "  [' because', ' is', ' from'],\n",
       "  [' he', ' when', ' John'],\n",
       "  [' was', ' drove', ' traveled'],\n",
       "  [' ', ' driving', ' traveling'],\n",
       "  ['180', '3', '60'],\n",
       "  [' miles', ' when', '/'],\n",
       "  [' from', ' away', ' when'],\n",
       "  [' home', ' his', ' the'],\n",
       "  [' when', ' initially', ' after'],\n",
       "  [' he', ' John', ' the'],\n",
       "  [' turned', ' started', ' first'],\n",
       "  [' around', ' back', ' the'],\n",
       "  ['.\\n', ' and', '.'],\n",
       "  ['####', 'He', 'The'],\n",
       "  [' ', '45', ' ('],\n",
       "  ['180', '45', '1'],\n",
       "  ['\\n\\n', ' \\n\\n', '<|eot_id|>']],\n",
       " 'topk_logits': tensor([[17.4375, 15.3906, 15.3516],\n",
       "         [16.3125, 14.8906, 14.0312],\n",
       "         [16.5000, 15.8906, 15.2109],\n",
       "         [17.3281, 16.9062, 16.3906],\n",
       "         [20.1562, 20.1094, 18.6406],\n",
       "         [19.8438, 18.7969, 17.5000],\n",
       "         [22.5000, 20.4375, 19.7344],\n",
       "         [19.5312, 15.8672, 14.3828],\n",
       "         [21.8125, 21.3594, 19.2656],\n",
       "         [23.0938, 20.2812, 20.2500],\n",
       "         [20.8906, 18.4062, 18.2344],\n",
       "         [23.5625, 18.8906, 17.9844],\n",
       "         [21.9375, 19.4062, 18.6094],\n",
       "         [21.9375, 19.0469, 17.7969],\n",
       "         [19.0156, 17.8281, 17.7812],\n",
       "         [17.6562, 13.6953, 12.0312],\n",
       "         [21.4062, 12.8750, 12.4922],\n",
       "         [24.5469, 18.8750, 15.3438],\n",
       "         [21.1562, 18.2188, 15.9219]]),\n",
       " 'topk_probabilities': tensor([[5.2685e-01, 6.8036e-02, 6.5429e-02],\n",
       "         [4.9704e-01, 1.1992e-01, 5.0776e-02],\n",
       "         [2.2888e-01, 1.2444e-01, 6.3062e-02],\n",
       "         [2.7369e-01, 1.7949e-01, 1.0718e-01],\n",
       "         [3.1465e-01, 3.0024e-01, 6.9118e-02],\n",
       "         [5.7723e-01, 2.0263e-01, 5.5395e-02],\n",
       "         [8.2962e-01, 1.0547e-01, 5.2214e-02],\n",
       "         [9.3161e-01, 2.3876e-02, 5.4112e-03],\n",
       "         [5.7488e-01, 3.6542e-01, 4.5028e-02],\n",
       "         [8.8278e-01, 5.3015e-02, 5.1384e-02],\n",
       "         [7.1195e-01, 5.9361e-02, 4.9987e-02],\n",
       "         [9.7964e-01, 9.1643e-03, 3.7027e-03],\n",
       "         [7.9081e-01, 6.2917e-02, 2.8359e-02],\n",
       "         [9.0778e-01, 5.0419e-02, 1.4445e-02],\n",
       "         [4.7425e-01, 1.4464e-01, 1.3801e-01],\n",
       "         [9.5093e-01, 1.8111e-02, 3.4296e-03],\n",
       "         [9.9886e-01, 1.9698e-04, 1.3433e-04],\n",
       "         [9.9566e-01, 3.4265e-03, 1.0029e-04],\n",
       "         [9.3872e-01, 4.9750e-02, 5.0035e-03]]),\n",
       " 'vocab_size': 128256}"
      ]
     },
     "execution_count": 7,
     "metadata": {},
     "output_type": "execute_result"
    }
   ],
   "source": [
    "generate_answer(question_to_prompt(test_qnas[sample_i]))"
   ]
  },
  {
   "cell_type": "code",
   "execution_count": 8,
   "metadata": {},
   "outputs": [
    {
     "name": "stdout",
     "output_type": "stream",
     "text": [
      "* Sample Question: John drives for 3 hours at a speed of 60 mph and then turns around because he realizes he forgot something very important at home.  He tries to get home in 4 hours but spends the first 2 hours in standstill traffic.  He spends the next half-hour driving at a speed of 30mph, before being able to drive the remaining time of the 4 hours going at 80 mph.  How far is he from home at the end of those 4 hours?\n",
      "* Expected Answer: When he turned around he was 3*60=<<3*60=180>>180 miles from home\n",
      "He was only able to drive 4-2=<<4-2=2>>2 hours in the first four hours\n",
      "In half an hour he goes 30*.5=<<30*.5=15>>15 miles\n",
      "He then drives another 2-.5=<<2-.5=1.5>>1.5 hours\n",
      "In that time he goes 80*1.5=<<80*1.5=120>>120 miles\n",
      "So he drove 120+15=<<120+15=135>>135 miles\n",
      "So he is 180-135=<<180-135=45>>45 miles away from home\n",
      "#### 45\n"
     ]
    }
   ],
   "source": [
    "print(\"* Sample Question:\", test_qnas[sample_i]['question'])\n",
    "print(\"* Expected Answer:\", test_qnas[sample_i]['answer'])"
   ]
  },
  {
   "cell_type": "markdown",
   "metadata": {},
   "source": []
  },
  {
   "cell_type": "code",
   "execution_count": 9,
   "metadata": {},
   "outputs": [],
   "source": [
    "import pandas as pd\n",
    "import plotly.graph_objects as go\n",
    "from datetime import datetime\n",
    "import os\n",
    "\n",
    "def visualize_topk_plotly(ans_data, save_html=False, show_text=True):\n",
    "    data = []\n",
    "    for i in range(ans_data['generated_token_len']):\n",
    "        row = {\n",
    "            'Token Position': i + 1,\n",
    "            'Generated Token': ans_data['generated_tokens'][i],\n",
    "            'Top-1 Token': ans_data['topk_tokens'][i][0],\n",
    "            'Top-1 Probability': ans_data['topk_probabilities'][i][0].item(),\n",
    "            'Top-2 Token': ans_data['topk_tokens'][i][1],\n",
    "            'Top-2 Probability': ans_data['topk_probabilities'][i][1].item(),\n",
    "            'Top-3 Token': ans_data['topk_tokens'][i][2],\n",
    "            'Top-3 Probability': ans_data['topk_probabilities'][i][2].item(),\n",
    "        }\n",
    "        data.append(row)\n",
    "    df = pd.DataFrame(data)\n",
    "\n",
    "    print(''.join(df['Generated Token'].values))\n",
    "    \n",
    "    fig = go.Figure()\n",
    "\n",
    "    for rank, (prob_column, token_column) in enumerate(\n",
    "        zip([\"Top-1 Probability\", \"Top-2 Probability\", \"Top-3 Probability\"], \n",
    "            [\"Top-1 Token\", \"Top-2 Token\", \"Top-3 Token\"]), start=1):\n",
    "        \n",
    "        marker_sizes = [\n",
    "            12 if df.iloc[i]['Generated Token'] == df.iloc[i][token_column] else 6\n",
    "            for i in range(len(df))\n",
    "        ]\n",
    "        \n",
    "        fig.add_trace(go.Scatter(\n",
    "            x=df['Token Position'],\n",
    "            y=df[prob_column],\n",
    "            mode='lines+markers' + ('+text' if show_text else ''),\n",
    "            name=f'Top-{rank} Probability',\n",
    "            text=df[token_column] if show_text else None,\n",
    "            textposition=\"top center\",\n",
    "            marker=dict(size=marker_sizes)\n",
    "        ))\n",
    "    \n",
    "    fig.update_layout(\n",
    "        title=\"Top-3 Token Probabilities at Each Generation Step\",\n",
    "        xaxis_title=\"Token Position\",\n",
    "        yaxis_title=\"Probability\",\n",
    "        legend=dict(\n",
    "            x=1.05,\n",
    "            y=1,\n",
    "            title=\"Probabilities\",\n",
    "            orientation=\"v\"\n",
    "        ),\n",
    "        autosize=True,\n",
    "        margin=dict(l=50, r=50, t=50, b=50)\n",
    "    )\n",
    "    \n",
    "    fig.show()\n",
    "    \n",
    "    if save_html:\n",
    "        os.makedirs(\"outputs\", exist_ok=True)\n",
    "        timestamp = datetime.now().strftime(\"%Y%m%d_%H%M%S\")\n",
    "        html_path = f\"outputs/topk_plot_{timestamp}.html\"\n",
    "        \n",
    "        fig.write_html(html_path)\n",
    "        print(f\"Plot saved as HTML at: {html_path}\")"
   ]
  },
  {
   "cell_type": "code",
   "execution_count": 10,
   "metadata": {},
   "outputs": [
    {
     "name": "stdout",
     "output_type": "stream",
     "text": [
      "180 miles because he was 180 miles from home when he turned around.\n",
      "#### 180\n",
      "\n",
      "\n"
     ]
    },
    {
     "data": {
      "application/vnd.plotly.v1+json": {
       "config": {
        "plotlyServerURL": "https://plot.ly"
       },
       "data": [
        {
         "marker": {
          "size": [
           12,
           12,
           12,
           12,
           12,
           12,
           12,
           12,
           12,
           12,
           12,
           12,
           12,
           12,
           12,
           12,
           12,
           12,
           12
          ]
         },
         "mode": "lines+markers+text",
         "name": "Top-1 Probability",
         "text": [
          "180",
          " miles",
          " because",
          " he",
          " was",
          " ",
          "180",
          " miles",
          " from",
          " home",
          " when",
          " he",
          " turned",
          " around",
          ".\n",
          "####",
          " ",
          "180",
          "\n\n"
         ],
         "textposition": "top center",
         "type": "scatter",
         "x": [
          1,
          2,
          3,
          4,
          5,
          6,
          7,
          8,
          9,
          10,
          11,
          12,
          13,
          14,
          15,
          16,
          17,
          18,
          19
         ],
         "y": [
          0.5268462896347046,
          0.4970387816429138,
          0.22887741029262543,
          0.27369225025177,
          0.3146457076072693,
          0.5772255659103394,
          0.8296197652816772,
          0.931613028049469,
          0.5748844146728516,
          0.882783055305481,
          0.7119483947753906,
          0.979644775390625,
          0.7908115386962891,
          0.9077799916267395,
          0.47425025701522827,
          0.9509345293045044,
          0.9988572597503662,
          0.9956581592559814,
          0.9387152194976807
         ]
        },
        {
         "marker": {
          "size": [
           6,
           6,
           6,
           6,
           6,
           6,
           6,
           6,
           6,
           6,
           6,
           6,
           6,
           6,
           6,
           6,
           6,
           6,
           6
          ]
         },
         "mode": "lines+markers+text",
         "name": "Top-2 Probability",
         "text": [
          "3",
          "\n",
          " is",
          " when",
          " drove",
          " driving",
          "3",
          " when",
          " away",
          " his",
          " initially",
          " John",
          " started",
          " back",
          " and",
          "He",
          "45",
          "45",
          " \n\n"
         ],
         "textposition": "top center",
         "type": "scatter",
         "x": [
          1,
          2,
          3,
          4,
          5,
          6,
          7,
          8,
          9,
          10,
          11,
          12,
          13,
          14,
          15,
          16,
          17,
          18,
          19
         ],
         "y": [
          0.068035788834095,
          0.11991619318723679,
          0.12443848699331284,
          0.1794917732477188,
          0.3002370297908783,
          0.20262524485588074,
          0.1054743081331253,
          0.023875553160905838,
          0.36541876196861267,
          0.053015243262052536,
          0.05936058610677719,
          0.0091642951592803,
          0.0629165843129158,
          0.05041945353150368,
          0.14463815093040466,
          0.018110785633325577,
          0.00019698294636327773,
          0.0034264642745256424,
          0.049750085920095444
         ]
        },
        {
         "marker": {
          "size": [
           6,
           6,
           6,
           6,
           6,
           6,
           6,
           6,
           6,
           6,
           6,
           6,
           6,
           6,
           6,
           6,
           6,
           6,
           6
          ]
         },
         "mode": "lines+markers+text",
         "name": "Top-3 Probability",
         "text": [
          " John",
          " is",
          " from",
          " John",
          " traveled",
          " traveling",
          "60",
          "/",
          " when",
          " the",
          " after",
          " the",
          " first",
          " the",
          ".",
          "The",
          " (",
          "1",
          "<|eot_id|>"
         ],
         "textposition": "top center",
         "type": "scatter",
         "x": [
          1,
          2,
          3,
          4,
          5,
          6,
          7,
          8,
          9,
          10,
          11,
          12,
          13,
          14,
          15,
          16,
          17,
          18,
          19
         ],
         "y": [
          0.06542937457561493,
          0.05077570676803589,
          0.06306235492229462,
          0.1071794256567955,
          0.06911848485469818,
          0.05539466068148613,
          0.05221357196569443,
          0.005411249585449696,
          0.04502842575311661,
          0.051384132355451584,
          0.049986619502305984,
          0.003702710149809718,
          0.02835872583091259,
          0.014445415697991848,
          0.13801468908786774,
          0.0034296053927391768,
          0.00013433069398161024,
          0.00010028681572293863,
          0.0050034974701702595
         ]
        }
       ],
       "layout": {
        "autosize": true,
        "legend": {
         "orientation": "v",
         "title": {
          "text": "Probabilities"
         },
         "x": 1.05,
         "y": 1
        },
        "margin": {
         "b": 50,
         "l": 50,
         "r": 50,
         "t": 50
        },
        "template": {
         "data": {
          "bar": [
           {
            "error_x": {
             "color": "#2a3f5f"
            },
            "error_y": {
             "color": "#2a3f5f"
            },
            "marker": {
             "line": {
              "color": "#E5ECF6",
              "width": 0.5
             },
             "pattern": {
              "fillmode": "overlay",
              "size": 10,
              "solidity": 0.2
             }
            },
            "type": "bar"
           }
          ],
          "barpolar": [
           {
            "marker": {
             "line": {
              "color": "#E5ECF6",
              "width": 0.5
             },
             "pattern": {
              "fillmode": "overlay",
              "size": 10,
              "solidity": 0.2
             }
            },
            "type": "barpolar"
           }
          ],
          "carpet": [
           {
            "aaxis": {
             "endlinecolor": "#2a3f5f",
             "gridcolor": "white",
             "linecolor": "white",
             "minorgridcolor": "white",
             "startlinecolor": "#2a3f5f"
            },
            "baxis": {
             "endlinecolor": "#2a3f5f",
             "gridcolor": "white",
             "linecolor": "white",
             "minorgridcolor": "white",
             "startlinecolor": "#2a3f5f"
            },
            "type": "carpet"
           }
          ],
          "choropleth": [
           {
            "colorbar": {
             "outlinewidth": 0,
             "ticks": ""
            },
            "type": "choropleth"
           }
          ],
          "contour": [
           {
            "colorbar": {
             "outlinewidth": 0,
             "ticks": ""
            },
            "colorscale": [
             [
              0,
              "#0d0887"
             ],
             [
              0.1111111111111111,
              "#46039f"
             ],
             [
              0.2222222222222222,
              "#7201a8"
             ],
             [
              0.3333333333333333,
              "#9c179e"
             ],
             [
              0.4444444444444444,
              "#bd3786"
             ],
             [
              0.5555555555555556,
              "#d8576b"
             ],
             [
              0.6666666666666666,
              "#ed7953"
             ],
             [
              0.7777777777777778,
              "#fb9f3a"
             ],
             [
              0.8888888888888888,
              "#fdca26"
             ],
             [
              1,
              "#f0f921"
             ]
            ],
            "type": "contour"
           }
          ],
          "contourcarpet": [
           {
            "colorbar": {
             "outlinewidth": 0,
             "ticks": ""
            },
            "type": "contourcarpet"
           }
          ],
          "heatmap": [
           {
            "colorbar": {
             "outlinewidth": 0,
             "ticks": ""
            },
            "colorscale": [
             [
              0,
              "#0d0887"
             ],
             [
              0.1111111111111111,
              "#46039f"
             ],
             [
              0.2222222222222222,
              "#7201a8"
             ],
             [
              0.3333333333333333,
              "#9c179e"
             ],
             [
              0.4444444444444444,
              "#bd3786"
             ],
             [
              0.5555555555555556,
              "#d8576b"
             ],
             [
              0.6666666666666666,
              "#ed7953"
             ],
             [
              0.7777777777777778,
              "#fb9f3a"
             ],
             [
              0.8888888888888888,
              "#fdca26"
             ],
             [
              1,
              "#f0f921"
             ]
            ],
            "type": "heatmap"
           }
          ],
          "heatmapgl": [
           {
            "colorbar": {
             "outlinewidth": 0,
             "ticks": ""
            },
            "colorscale": [
             [
              0,
              "#0d0887"
             ],
             [
              0.1111111111111111,
              "#46039f"
             ],
             [
              0.2222222222222222,
              "#7201a8"
             ],
             [
              0.3333333333333333,
              "#9c179e"
             ],
             [
              0.4444444444444444,
              "#bd3786"
             ],
             [
              0.5555555555555556,
              "#d8576b"
             ],
             [
              0.6666666666666666,
              "#ed7953"
             ],
             [
              0.7777777777777778,
              "#fb9f3a"
             ],
             [
              0.8888888888888888,
              "#fdca26"
             ],
             [
              1,
              "#f0f921"
             ]
            ],
            "type": "heatmapgl"
           }
          ],
          "histogram": [
           {
            "marker": {
             "pattern": {
              "fillmode": "overlay",
              "size": 10,
              "solidity": 0.2
             }
            },
            "type": "histogram"
           }
          ],
          "histogram2d": [
           {
            "colorbar": {
             "outlinewidth": 0,
             "ticks": ""
            },
            "colorscale": [
             [
              0,
              "#0d0887"
             ],
             [
              0.1111111111111111,
              "#46039f"
             ],
             [
              0.2222222222222222,
              "#7201a8"
             ],
             [
              0.3333333333333333,
              "#9c179e"
             ],
             [
              0.4444444444444444,
              "#bd3786"
             ],
             [
              0.5555555555555556,
              "#d8576b"
             ],
             [
              0.6666666666666666,
              "#ed7953"
             ],
             [
              0.7777777777777778,
              "#fb9f3a"
             ],
             [
              0.8888888888888888,
              "#fdca26"
             ],
             [
              1,
              "#f0f921"
             ]
            ],
            "type": "histogram2d"
           }
          ],
          "histogram2dcontour": [
           {
            "colorbar": {
             "outlinewidth": 0,
             "ticks": ""
            },
            "colorscale": [
             [
              0,
              "#0d0887"
             ],
             [
              0.1111111111111111,
              "#46039f"
             ],
             [
              0.2222222222222222,
              "#7201a8"
             ],
             [
              0.3333333333333333,
              "#9c179e"
             ],
             [
              0.4444444444444444,
              "#bd3786"
             ],
             [
              0.5555555555555556,
              "#d8576b"
             ],
             [
              0.6666666666666666,
              "#ed7953"
             ],
             [
              0.7777777777777778,
              "#fb9f3a"
             ],
             [
              0.8888888888888888,
              "#fdca26"
             ],
             [
              1,
              "#f0f921"
             ]
            ],
            "type": "histogram2dcontour"
           }
          ],
          "mesh3d": [
           {
            "colorbar": {
             "outlinewidth": 0,
             "ticks": ""
            },
            "type": "mesh3d"
           }
          ],
          "parcoords": [
           {
            "line": {
             "colorbar": {
              "outlinewidth": 0,
              "ticks": ""
             }
            },
            "type": "parcoords"
           }
          ],
          "pie": [
           {
            "automargin": true,
            "type": "pie"
           }
          ],
          "scatter": [
           {
            "fillpattern": {
             "fillmode": "overlay",
             "size": 10,
             "solidity": 0.2
            },
            "type": "scatter"
           }
          ],
          "scatter3d": [
           {
            "line": {
             "colorbar": {
              "outlinewidth": 0,
              "ticks": ""
             }
            },
            "marker": {
             "colorbar": {
              "outlinewidth": 0,
              "ticks": ""
             }
            },
            "type": "scatter3d"
           }
          ],
          "scattercarpet": [
           {
            "marker": {
             "colorbar": {
              "outlinewidth": 0,
              "ticks": ""
             }
            },
            "type": "scattercarpet"
           }
          ],
          "scattergeo": [
           {
            "marker": {
             "colorbar": {
              "outlinewidth": 0,
              "ticks": ""
             }
            },
            "type": "scattergeo"
           }
          ],
          "scattergl": [
           {
            "marker": {
             "colorbar": {
              "outlinewidth": 0,
              "ticks": ""
             }
            },
            "type": "scattergl"
           }
          ],
          "scattermapbox": [
           {
            "marker": {
             "colorbar": {
              "outlinewidth": 0,
              "ticks": ""
             }
            },
            "type": "scattermapbox"
           }
          ],
          "scatterpolar": [
           {
            "marker": {
             "colorbar": {
              "outlinewidth": 0,
              "ticks": ""
             }
            },
            "type": "scatterpolar"
           }
          ],
          "scatterpolargl": [
           {
            "marker": {
             "colorbar": {
              "outlinewidth": 0,
              "ticks": ""
             }
            },
            "type": "scatterpolargl"
           }
          ],
          "scatterternary": [
           {
            "marker": {
             "colorbar": {
              "outlinewidth": 0,
              "ticks": ""
             }
            },
            "type": "scatterternary"
           }
          ],
          "surface": [
           {
            "colorbar": {
             "outlinewidth": 0,
             "ticks": ""
            },
            "colorscale": [
             [
              0,
              "#0d0887"
             ],
             [
              0.1111111111111111,
              "#46039f"
             ],
             [
              0.2222222222222222,
              "#7201a8"
             ],
             [
              0.3333333333333333,
              "#9c179e"
             ],
             [
              0.4444444444444444,
              "#bd3786"
             ],
             [
              0.5555555555555556,
              "#d8576b"
             ],
             [
              0.6666666666666666,
              "#ed7953"
             ],
             [
              0.7777777777777778,
              "#fb9f3a"
             ],
             [
              0.8888888888888888,
              "#fdca26"
             ],
             [
              1,
              "#f0f921"
             ]
            ],
            "type": "surface"
           }
          ],
          "table": [
           {
            "cells": {
             "fill": {
              "color": "#EBF0F8"
             },
             "line": {
              "color": "white"
             }
            },
            "header": {
             "fill": {
              "color": "#C8D4E3"
             },
             "line": {
              "color": "white"
             }
            },
            "type": "table"
           }
          ]
         },
         "layout": {
          "annotationdefaults": {
           "arrowcolor": "#2a3f5f",
           "arrowhead": 0,
           "arrowwidth": 1
          },
          "autotypenumbers": "strict",
          "coloraxis": {
           "colorbar": {
            "outlinewidth": 0,
            "ticks": ""
           }
          },
          "colorscale": {
           "diverging": [
            [
             0,
             "#8e0152"
            ],
            [
             0.1,
             "#c51b7d"
            ],
            [
             0.2,
             "#de77ae"
            ],
            [
             0.3,
             "#f1b6da"
            ],
            [
             0.4,
             "#fde0ef"
            ],
            [
             0.5,
             "#f7f7f7"
            ],
            [
             0.6,
             "#e6f5d0"
            ],
            [
             0.7,
             "#b8e186"
            ],
            [
             0.8,
             "#7fbc41"
            ],
            [
             0.9,
             "#4d9221"
            ],
            [
             1,
             "#276419"
            ]
           ],
           "sequential": [
            [
             0,
             "#0d0887"
            ],
            [
             0.1111111111111111,
             "#46039f"
            ],
            [
             0.2222222222222222,
             "#7201a8"
            ],
            [
             0.3333333333333333,
             "#9c179e"
            ],
            [
             0.4444444444444444,
             "#bd3786"
            ],
            [
             0.5555555555555556,
             "#d8576b"
            ],
            [
             0.6666666666666666,
             "#ed7953"
            ],
            [
             0.7777777777777778,
             "#fb9f3a"
            ],
            [
             0.8888888888888888,
             "#fdca26"
            ],
            [
             1,
             "#f0f921"
            ]
           ],
           "sequentialminus": [
            [
             0,
             "#0d0887"
            ],
            [
             0.1111111111111111,
             "#46039f"
            ],
            [
             0.2222222222222222,
             "#7201a8"
            ],
            [
             0.3333333333333333,
             "#9c179e"
            ],
            [
             0.4444444444444444,
             "#bd3786"
            ],
            [
             0.5555555555555556,
             "#d8576b"
            ],
            [
             0.6666666666666666,
             "#ed7953"
            ],
            [
             0.7777777777777778,
             "#fb9f3a"
            ],
            [
             0.8888888888888888,
             "#fdca26"
            ],
            [
             1,
             "#f0f921"
            ]
           ]
          },
          "colorway": [
           "#636efa",
           "#EF553B",
           "#00cc96",
           "#ab63fa",
           "#FFA15A",
           "#19d3f3",
           "#FF6692",
           "#B6E880",
           "#FF97FF",
           "#FECB52"
          ],
          "font": {
           "color": "#2a3f5f"
          },
          "geo": {
           "bgcolor": "white",
           "lakecolor": "white",
           "landcolor": "#E5ECF6",
           "showlakes": true,
           "showland": true,
           "subunitcolor": "white"
          },
          "hoverlabel": {
           "align": "left"
          },
          "hovermode": "closest",
          "mapbox": {
           "style": "light"
          },
          "paper_bgcolor": "white",
          "plot_bgcolor": "#E5ECF6",
          "polar": {
           "angularaxis": {
            "gridcolor": "white",
            "linecolor": "white",
            "ticks": ""
           },
           "bgcolor": "#E5ECF6",
           "radialaxis": {
            "gridcolor": "white",
            "linecolor": "white",
            "ticks": ""
           }
          },
          "scene": {
           "xaxis": {
            "backgroundcolor": "#E5ECF6",
            "gridcolor": "white",
            "gridwidth": 2,
            "linecolor": "white",
            "showbackground": true,
            "ticks": "",
            "zerolinecolor": "white"
           },
           "yaxis": {
            "backgroundcolor": "#E5ECF6",
            "gridcolor": "white",
            "gridwidth": 2,
            "linecolor": "white",
            "showbackground": true,
            "ticks": "",
            "zerolinecolor": "white"
           },
           "zaxis": {
            "backgroundcolor": "#E5ECF6",
            "gridcolor": "white",
            "gridwidth": 2,
            "linecolor": "white",
            "showbackground": true,
            "ticks": "",
            "zerolinecolor": "white"
           }
          },
          "shapedefaults": {
           "line": {
            "color": "#2a3f5f"
           }
          },
          "ternary": {
           "aaxis": {
            "gridcolor": "white",
            "linecolor": "white",
            "ticks": ""
           },
           "baxis": {
            "gridcolor": "white",
            "linecolor": "white",
            "ticks": ""
           },
           "bgcolor": "#E5ECF6",
           "caxis": {
            "gridcolor": "white",
            "linecolor": "white",
            "ticks": ""
           }
          },
          "title": {
           "x": 0.05
          },
          "xaxis": {
           "automargin": true,
           "gridcolor": "white",
           "linecolor": "white",
           "ticks": "",
           "title": {
            "standoff": 15
           },
           "zerolinecolor": "white",
           "zerolinewidth": 2
          },
          "yaxis": {
           "automargin": true,
           "gridcolor": "white",
           "linecolor": "white",
           "ticks": "",
           "title": {
            "standoff": 15
           },
           "zerolinecolor": "white",
           "zerolinewidth": 2
          }
         }
        },
        "title": {
         "text": "Top-3 Token Probabilities at Each Generation Step"
        },
        "xaxis": {
         "title": {
          "text": "Token Position"
         }
        },
        "yaxis": {
         "title": {
          "text": "Probability"
         }
        }
       }
      }
     },
     "metadata": {},
     "output_type": "display_data"
    },
    {
     "name": "stdout",
     "output_type": "stream",
     "text": [
      "Plot saved as HTML at: outputs/topk_plot_20241204_135204.html\n"
     ]
    }
   ],
   "source": [
    "set_seed(42)\n",
    "\n",
    "ans_data = generate_answer(question_to_prompt(test_qnas[sample_i]))\n",
    "\n",
    "visualize_topk_plotly(\n",
    "    ans_data, \n",
    "    save_html=True,\n",
    ")"
   ]
  },
  {
   "cell_type": "code",
   "execution_count": 11,
   "metadata": {},
   "outputs": [
    {
     "name": "stdout",
     "output_type": "stream",
     "text": [
      "180 miles because John drove for 3 hours at 60 mph, which is 3*60=<<3*60=180>>180 miles.\n",
      "He was only able to drive 2 hours in the first four hours, which is 2*60=<<2*60=120>>120 miles.\n",
      "In half an hour he goes 30*.5=<<30*.5=15>>15 miles.\n",
      "He then drives another 1.5 hours, which is 1.5*80=<<1.5*80=120>>120 miles.\n",
      "So he drove a total of 120+15=135 miles.\n",
      "So he is 180-135=<<180-135=45>>45 miles away from home.\n",
      "#### 45\n",
      "\n",
      "\n"
     ]
    },
    {
     "data": {
      "application/vnd.plotly.v1+json": {
       "config": {
        "plotlyServerURL": "https://plot.ly"
       },
       "data": [
        {
         "marker": {
          "size": [
           12,
           12,
           12,
           6,
           6,
           6,
           12,
           12,
           12,
           12,
           12,
           12,
           12,
           12,
           12,
           12,
           12,
           12,
           12,
           12,
           12,
           12,
           12,
           12,
           12,
           12,
           12,
           12,
           12,
           12,
           12,
           12,
           12,
           12,
           12,
           12,
           12,
           12,
           12,
           12,
           12,
           12,
           12,
           12,
           12,
           12,
           12,
           12,
           12,
           12,
           12,
           12,
           12,
           12,
           12,
           12,
           12,
           12,
           12,
           12,
           12,
           12,
           12,
           12,
           12,
           12,
           12,
           12,
           12,
           12,
           12,
           12,
           12,
           12,
           12,
           12,
           12,
           12,
           12,
           12,
           12,
           12,
           12,
           12,
           12,
           12,
           12,
           12,
           12,
           12,
           12,
           12,
           12,
           12,
           12,
           12,
           12,
           12,
           12,
           12,
           12,
           6,
           12,
           12,
           12,
           12,
           12,
           12,
           12,
           12,
           12,
           12,
           12,
           12,
           12,
           12,
           12,
           12,
           6,
           12,
           12,
           12,
           12,
           12,
           12,
           12,
           6,
           12,
           12,
           12,
           12,
           12,
           12,
           12,
           12,
           12,
           12,
           12,
           12,
           12,
           12,
           12,
           12,
           12,
           12,
           12,
           12,
           12,
           12,
           12,
           12,
           12,
           12,
           12
          ]
         },
         "mode": "lines+markers+text",
         "name": "Top-1 Probability",
         "text": [
          "180",
          " miles",
          " because",
          " he",
          " was",
          " ",
          " ",
          "3",
          " hours",
          " at",
          " ",
          "60",
          " mph",
          ",",
          " which",
          " is",
          " ",
          "3",
          "*",
          "60",
          "=",
          "<<",
          "3",
          "*",
          "60",
          "=",
          "180",
          ">>",
          "180",
          " miles",
          ".\n",
          "He",
          " was",
          " only",
          " able",
          " to",
          " drive",
          " ",
          "2",
          " hours",
          " in",
          " the",
          " first",
          " four",
          " hours",
          ",",
          " which",
          " is",
          " ",
          "2",
          "*",
          "60",
          "=",
          "<<",
          "2",
          "*",
          "60",
          "=",
          "120",
          ">>",
          "120",
          " miles",
          ".\n",
          "In",
          " half",
          " an",
          " hour",
          " he",
          " goes",
          " ",
          "30",
          "*.",
          "5",
          "=",
          "<<",
          "30",
          "*.",
          "5",
          "=",
          "15",
          ">>",
          "15",
          " miles",
          ".\n",
          "He",
          " then",
          " drives",
          " another",
          " ",
          "1",
          ".",
          "5",
          " hours",
          ",",
          " which",
          " is",
          " ",
          "1",
          ".",
          "5",
          "*",
          "60",
          "=",
          "<<",
          "1",
          ".",
          "5",
          "*",
          "80",
          "=",
          "120",
          ">>",
          "120",
          " miles",
          ".\n",
          "So",
          " he",
          " drove",
          " ",
          " total",
          " of",
          " ",
          "120",
          "+",
          "15",
          "=",
          "<<",
          " miles",
          ".\n",
          "So",
          " he",
          " is",
          " ",
          "180",
          "-",
          "135",
          "=",
          "<<",
          "180",
          "-",
          "135",
          "=",
          "45",
          ">>",
          "45",
          " miles",
          " away",
          " from",
          " home",
          ".\n",
          "####",
          " ",
          "45",
          "\n\n"
         ],
         "textposition": "top center",
         "type": "scatter",
         "x": [
          1,
          2,
          3,
          4,
          5,
          6,
          7,
          8,
          9,
          10,
          11,
          12,
          13,
          14,
          15,
          16,
          17,
          18,
          19,
          20,
          21,
          22,
          23,
          24,
          25,
          26,
          27,
          28,
          29,
          30,
          31,
          32,
          33,
          34,
          35,
          36,
          37,
          38,
          39,
          40,
          41,
          42,
          43,
          44,
          45,
          46,
          47,
          48,
          49,
          50,
          51,
          52,
          53,
          54,
          55,
          56,
          57,
          58,
          59,
          60,
          61,
          62,
          63,
          64,
          65,
          66,
          67,
          68,
          69,
          70,
          71,
          72,
          73,
          74,
          75,
          76,
          77,
          78,
          79,
          80,
          81,
          82,
          83,
          84,
          85,
          86,
          87,
          88,
          89,
          90,
          91,
          92,
          93,
          94,
          95,
          96,
          97,
          98,
          99,
          100,
          101,
          102,
          103,
          104,
          105,
          106,
          107,
          108,
          109,
          110,
          111,
          112,
          113,
          114,
          115,
          116,
          117,
          118,
          119,
          120,
          121,
          122,
          123,
          124,
          125,
          126,
          127,
          128,
          129,
          130,
          131,
          132,
          133,
          134,
          135,
          136,
          137,
          138,
          139,
          140,
          141,
          142,
          143,
          144,
          145,
          146,
          147,
          148,
          149,
          150,
          151,
          152,
          153,
          154
         ],
         "y": [
          0.5268462896347046,
          0.4970387816429138,
          0.22887741029262543,
          0.27369225025177,
          0.2447749227285385,
          0.6613620519638062,
          0.9381912350654602,
          0.9842685461044312,
          0.9776926636695862,
          0.6772439479827881,
          0.6749735474586487,
          0.9950779676437378,
          0.6954077482223511,
          0.30814123153686523,
          0.3105839192867279,
          0.5505256056785583,
          0.9157087206840515,
          0.6676470637321472,
          0.5754594206809998,
          0.9959955215454102,
          0.6971651911735535,
          0.684844970703125,
          0.994474470615387,
          0.9999322891235352,
          0.9999769926071167,
          0.9999896287918091,
          0.9999995231628418,
          0.9998465776443481,
          0.999935507774353,
          0.8754323124885559,
          0.5220251083374023,
          0.4425497353076935,
          0.3633033037185669,
          0.5705065727233887,
          0.9955788254737854,
          0.9991969466209412,
          0.9616555571556091,
          0.8801353573799133,
          0.7129682302474976,
          0.9471796751022339,
          0.7473250031471252,
          0.95793217420578,
          0.8997102975845337,
          0.800025999546051,
          0.9958570599555969,
          0.5710014700889587,
          0.4002406895160675,
          0.9261372685432434,
          0.9863331913948059,
          0.947346031665802,
          0.9655160307884216,
          0.9232271313667297,
          0.9445136189460754,
          0.9722205996513367,
          0.9985427856445312,
          0.9999924898147583,
          0.9999961853027344,
          0.999998927116394,
          1,
          0.9999394416809082,
          0.9999210834503174,
          0.9896368384361267,
          0.9075627326965332,
          0.5673755407333374,
          0.8040503263473511,
          0.9963657855987549,
          0.9999749660491943,
          0.9007024168968201,
          0.5673079490661621,
          0.9959422945976257,
          0.9615488648414612,
          0.96512770652771,
          0.9993036985397339,
          0.976864755153656,
          0.9187372922897339,
          0.9997996687889099,
          0.9994953870773315,
          0.999992847442627,
          0.999997615814209,
          0.9999997615814209,
          0.9999109506607056,
          0.9999548196792603,
          0.9952707886695862,
          0.8463720083236694,
          0.9523143768310547,
          0.9918467998504639,
          0.7770019769668579,
          0.9857990741729736,
          0.9964895844459534,
          0.8050797581672668,
          0.9980238676071167,
          0.9997523427009583,
          0.9937940835952759,
          0.6123080253601074,
          0.9028689861297607,
          0.9733731746673584,
          0.9925436973571777,
          0.8322395086288452,
          0.9994457364082336,
          0.999924898147583,
          0.9621758460998535,
          0.5014789700508118,
          0.9802242517471313,
          0.959339439868927,
          0.9968769550323486,
          0.9999933242797852,
          0.9999998807907104,
          0.999997615814209,
          0.9999526739120483,
          0.9999992847442627,
          1,
          0.9997124075889587,
          0.9999687671661377,
          0.9943494200706482,
          0.975266695022583,
          0.7255012392997742,
          0.935134768486023,
          0.9820656180381775,
          0.7344076633453369,
          0.9962826371192932,
          0.980170726776123,
          0.9965758919715881,
          0.8777673244476318,
          0.6779704093933105,
          0.9942218661308289,
          0.6159366369247437,
          0.7711291909217834,
          0.9936397671699524,
          0.7571889758110046,
          0.546081006526947,
          0.931391179561615,
          0.9543976187705994,
          0.9952204823493958,
          0.9866321682929993,
          0.9790680408477783,
          0.9992997646331787,
          0.9923061728477478,
          0.8105524182319641,
          0.9999934434890747,
          0.9999995231628418,
          0.999996542930603,
          0.9999992847442627,
          0.9999998807907104,
          0.9999707937240601,
          0.9998267292976379,
          0.997778594493866,
          0.9556305408477783,
          0.9966157078742981,
          0.9939746260643005,
          0.696874737739563,
          0.9815350770950317,
          0.9990684390068054,
          0.9992178678512573,
          0.9401856660842896
         ]
        },
        {
         "marker": {
          "size": [
           6,
           6,
           6,
           6,
           12,
           12,
           6,
           6,
           6,
           6,
           6,
           6,
           6,
           6,
           6,
           6,
           6,
           6,
           6,
           6,
           6,
           6,
           6,
           6,
           6,
           6,
           6,
           6,
           6,
           6,
           6,
           6,
           6,
           6,
           6,
           6,
           6,
           6,
           6,
           6,
           6,
           6,
           6,
           6,
           6,
           6,
           6,
           6,
           6,
           6,
           6,
           6,
           6,
           6,
           6,
           6,
           6,
           6,
           6,
           6,
           6,
           6,
           6,
           6,
           6,
           6,
           6,
           6,
           6,
           6,
           6,
           6,
           6,
           6,
           6,
           6,
           6,
           6,
           6,
           6,
           6,
           6,
           6,
           6,
           6,
           6,
           6,
           6,
           6,
           6,
           6,
           6,
           6,
           6,
           6,
           6,
           6,
           6,
           6,
           6,
           6,
           12,
           6,
           6,
           6,
           6,
           6,
           6,
           6,
           6,
           6,
           6,
           6,
           6,
           6,
           6,
           6,
           6,
           12,
           6,
           6,
           6,
           6,
           6,
           6,
           6,
           12,
           6,
           6,
           6,
           6,
           6,
           6,
           6,
           6,
           6,
           6,
           6,
           6,
           6,
           6,
           6,
           6,
           6,
           6,
           6,
           6,
           6,
           6,
           6,
           6,
           6,
           6,
           6
          ]
         },
         "mode": "lines+markers+text",
         "name": "Top-2 Probability",
         "text": [
          "3",
          "\n",
          " is",
          " when",
          " drove",
          " for",
          " three",
          "180",
          "*",
          " before",
          " a",
          "30",
          "mph",
          " and",
          " so",
          " means",
          " a",
          "180",
          " *",
          " ",
          " =",
          "180",
          "180",
          " *",
          "6",
          " =",
          " ",
          ">",
          " ",
          ".\n",
          " from",
          "Then",
          " then",
          " then",
          " driving",
          " drive",
          " move",
          " for",
          "4",
          "-",
          " of",
          " total",
          " next",
          " ",
          ",",
          ".\n",
          " so",
          " means",
          " a",
          "60",
          " *",
          "80",
          " =",
          " <<",
          "120",
          " *",
          "6",
          " =",
          "240",
          " >>",
          " ",
          ".\n",
          "\n",
          "He",
          " the",
          " of",
          " hours",
          ",",
          " went",
          " at",
          "15",
          "*",
          " ",
          " =",
          "15",
          "15",
          "*,",
          "500",
          " =",
          "�",
          " >>",
          "135",
          "\n",
          "\n",
          "Then",
          " drove",
          " drove",
          " ",
          " hour",
          "2",
          " hour",
          " ",
          "-",
          " in",
          " in",
          " means",
          " (",
          "80",
          ",",
          " ",
          " *",
          "80",
          " =",
          "120",
          "150",
          ",",
          "500",
          " *",
          "60",
          " =",
          "1",
          " >>",
          " ",
          ".\n",
          "\n",
          "He",
          ",",
          " drives",
          " a",
          " ",
          " distance",
          " $",
          "135",
          " +",
          "135",
          "+",
          "135",
          ".\n",
          " in",
          "Therefore",
          " John",
          " was",
          " only",
          "45",
          " -",
          "120",
          " miles",
          "45",
          "120",
          "=",
          "120",
          " =",
          "045",
          " >>",
          " ",
          "\n",
          " from",
          ".\n",
          " his",
          ".",
          "The",
          "45",
          " ",
          " \n\n"
         ],
         "textposition": "top center",
         "type": "scatter",
         "x": [
          1,
          2,
          3,
          4,
          5,
          6,
          7,
          8,
          9,
          10,
          11,
          12,
          13,
          14,
          15,
          16,
          17,
          18,
          19,
          20,
          21,
          22,
          23,
          24,
          25,
          26,
          27,
          28,
          29,
          30,
          31,
          32,
          33,
          34,
          35,
          36,
          37,
          38,
          39,
          40,
          41,
          42,
          43,
          44,
          45,
          46,
          47,
          48,
          49,
          50,
          51,
          52,
          53,
          54,
          55,
          56,
          57,
          58,
          59,
          60,
          61,
          62,
          63,
          64,
          65,
          66,
          67,
          68,
          69,
          70,
          71,
          72,
          73,
          74,
          75,
          76,
          77,
          78,
          79,
          80,
          81,
          82,
          83,
          84,
          85,
          86,
          87,
          88,
          89,
          90,
          91,
          92,
          93,
          94,
          95,
          96,
          97,
          98,
          99,
          100,
          101,
          102,
          103,
          104,
          105,
          106,
          107,
          108,
          109,
          110,
          111,
          112,
          113,
          114,
          115,
          116,
          117,
          118,
          119,
          120,
          121,
          122,
          123,
          124,
          125,
          126,
          127,
          128,
          129,
          130,
          131,
          132,
          133,
          134,
          135,
          136,
          137,
          138,
          139,
          140,
          141,
          142,
          143,
          144,
          145,
          146,
          147,
          148,
          149,
          150,
          151,
          152,
          153,
          154
         ],
         "y": [
          0.068035788834095,
          0.11991619318723679,
          0.12443848699331284,
          0.1794917732477188,
          0.24098004400730133,
          0.2215285450220108,
          0.05130067095160484,
          0.0093525480479002,
          0.006796755827963352,
          0.10884300619363785,
          0.2995177209377289,
          0.0006434384267777205,
          0.22226567566394806,
          0.1675334870815277,
          0.23813295364379883,
          0.19938716292381287,
          0.03283757343888283,
          0.2100844532251358,
          0.3080212473869324,
          0.0029318034648895264,
          0.28611600399017334,
          0.25194042921066284,
          0.004193201195448637,
          0.00005144138049217872,
          0.000015446192264789715,
          0.000007296357125596842,
          4.31391242727841e-7,
          0.00008219604205805808,
          0.000034536216844571754,
          0.08271019160747528,
          0.21091721951961517,
          0.10429676622152328,
          0.2006351351737976,
          0.1088830903172493,
          0.002078090328723192,
          0.00030046526808291674,
          0.008856541477143764,
          0.07690536975860596,
          0.2706122100353241,
          0.021930182352662086,
          0.07171860337257385,
          0.019573016092181206,
          0.03381223976612091,
          0.19301527738571167,
          0.0012607775861397386,
          0.13352207839488983,
          0.18612922728061676,
          0.03535350039601326,
          0.003968424629420042,
          0.04162348061800003,
          0.023427551612257957,
          0.07345150411128998,
          0.05328581482172012,
          0.0162133127450943,
          0.0010157953947782516,
          0.000004637859547074186,
          0.000002058045538433362,
          6.893607746860653e-7,
          1.3652065256053447e-8,
          0.00005307468381943181,
          0.000009972253792511765,
          0.005884595215320587,
          0.03630708158016205,
          0.32328081130981445,
          0.09603011608123779,
          0.002431454136967659,
          0.00001112545305659296,
          0.08918161690235138,
          0.16509601473808289,
          0.0010131500894203782,
          0.03557597100734711,
          0.017676930874586105,
          0.00016988579591270536,
          0.02027418091893196,
          0.06866572797298431,
          0.0001273017405765131,
          0.00037404679460451007,
          0.0000035838618259731447,
          0.0000017061820472008549,
          2.1355418766688672e-7,
          0.00008092691859928891,
          0.000009151362974080257,
          0.002281629480421543,
          0.12778306007385254,
          0.014687844552099705,
          0.0028297649696469307,
          0.2191634625196457,
          0.006853110156953335,
          0.0015457182889804244,
          0.19423453509807587,
          0.0008031427278183401,
          0.00005306475213728845,
          0.0011103275464847684,
          0.11504927277565002,
          0.0542214959859848,
          0.005352921783924103,
          0.0037514634896069765,
          0.1539488285779953,
          0.0002958806580863893,
          0.000021111341993673705,
          0.03615977615118027,
          0.49370428919792175,
          0.018523335456848145,
          0.03132354095578194,
          0.0014755079755559564,
          0.000005422211870609317,
          9.402664602475852e-8,
          0.0000010677015325200045,
          0.00004264726521796547,
          2.6370406658315915e-7,
          7.839721760660723e-9,
          0.00027802831027656794,
          0.000006962087354622781,
          0.004325763322412968,
          0.012470126152038574,
          0.09973211586475372,
          0.02341064251959324,
          0.011433335021138191,
          0.24599575996398926,
          0.0008402179228141904,
          0.01488310657441616,
          0.0026295832358300686,
          0.08827938139438629,
          0.3152855336666107,
          0.0028365410398691893,
          0.37946754693984985,
          0.22794535756111145,
          0.0023137617390602827,
          0.0761524960398674,
          0.16916799545288086,
          0.033399950712919235,
          0.018319305032491684,
          0.0011836339253932238,
          0.01222731452435255,
          0.017654241994023323,
          0.00031491732806898654,
          0.003809628775343299,
          0.18085870146751404,
          0.0000024824698812153656,
          2.309070765704746e-7,
          7.934474410831172e-7,
          3.866964846110932e-7,
          9.931193289958173e-8,
          0.000015936409909045324,
          0.00009027289343066514,
          0.00047572937910445035,
          0.04264868050813675,
          0.0020162516739219427,
          0.004062147345393896,
          0.20923973619937897,
          0.005745935253798962,
          0.0005928201135247946,
          0.00033520025317557156,
          0.036454953253269196
         ]
        },
        {
         "marker": {
          "size": [
           6,
           6,
           6,
           12,
           6,
           6,
           6,
           6,
           6,
           6,
           6,
           6,
           6,
           6,
           6,
           6,
           6,
           6,
           6,
           6,
           6,
           6,
           6,
           6,
           6,
           6,
           6,
           6,
           6,
           6,
           6,
           6,
           6,
           6,
           6,
           6,
           6,
           6,
           6,
           6,
           6,
           6,
           6,
           6,
           6,
           6,
           6,
           6,
           6,
           6,
           6,
           6,
           6,
           6,
           6,
           6,
           6,
           6,
           6,
           6,
           6,
           6,
           6,
           6,
           6,
           6,
           6,
           6,
           6,
           6,
           6,
           6,
           6,
           6,
           6,
           6,
           6,
           6,
           6,
           6,
           6,
           6,
           6,
           6,
           6,
           6,
           6,
           6,
           6,
           6,
           6,
           6,
           6,
           6,
           6,
           6,
           6,
           6,
           6,
           6,
           6,
           6,
           6,
           6,
           6,
           6,
           6,
           6,
           6,
           6,
           6,
           6,
           6,
           6,
           6,
           6,
           6,
           6,
           6,
           6,
           6,
           6,
           6,
           6,
           6,
           6,
           6,
           6,
           6,
           6,
           6,
           6,
           6,
           6,
           6,
           6,
           6,
           6,
           6,
           6,
           6,
           6,
           6,
           6,
           6,
           6,
           6,
           6,
           6,
           6,
           6,
           6,
           6,
           6
          ]
         },
         "mode": "lines+markers+text",
         "name": "Top-3 Probability",
         "text": [
          " John",
          " is",
          " from",
          " John",
          " drives",
          " at",
          " the",
          "2",
          " *",
          " and",
          " the",
          "80",
          " miles",
          ".\n",
          " and",
          " equals",
          " the",
          "60",
          " x",
          "6",
          " miles",
          " <<",
          "60",
          "+",
          " ",
          "-",
          "540",
          " >>",
          "a",
          "\n",
          "\n",
          "####",
          " is",
          " unable",
          " ",
          " ",
          " go",
          " the",
          "1",
          " more",
          " during",
          " those",
          " remaining",
          " two",
          ".",
          " because",
          " and",
          " would",
          " (",
          "80",
          " hours",
          " ",
          "=$",
          "120",
          "60",
          "*.",
          " ",
          "+",
          "720",
          ">",
          "180",
          "\n",
          ",",
          "Then",
          " that",
          "-an",
          "-hour",
          " John",
          " drives",
          ",",
          "0",
          " *",
          "50",
          "-",
          " <<",
          ".",
          "*",
          "005",
          "*",
          "14",
          ">>>",
          " ",
          ".\n",
          ",",
          "So",
          " drives",
          " goes",
          " for",
          ".",
          "0",
          ",",
          "50",
          "hours",
          " at",
          " and",
          " he",
          ".",
          "60",
          "*",
          "50",
          " x",
          " ",
          "-",
          " <<",
          "120",
          "*",
          "50",
          "*.",
          "8",
          "==",
          "60",
          ">>>",
          "130",
          "\n",
          ",",
          "In",
          " in",
          " was",
          " in",
          " distance",
          " ",
          " the",
          "15",
          " miles",
          "120",
          " =",
          " <<",
          "m",
          "\n",
          "Since",
          ",",
          " drove",
          " still",
          "135",
          " miles",
          " ",
          " =",
          " <<",
          "150",
          "-(",
          "125",
          "-",
          "145",
          ">>>",
          "180",
          " away",
          " ",
          "\n",
          " the",
          "\n",
          "45",
          " (",
          "5",
          "<|eot_id|>"
         ],
         "textposition": "top center",
         "type": "scatter",
         "x": [
          1,
          2,
          3,
          4,
          5,
          6,
          7,
          8,
          9,
          10,
          11,
          12,
          13,
          14,
          15,
          16,
          17,
          18,
          19,
          20,
          21,
          22,
          23,
          24,
          25,
          26,
          27,
          28,
          29,
          30,
          31,
          32,
          33,
          34,
          35,
          36,
          37,
          38,
          39,
          40,
          41,
          42,
          43,
          44,
          45,
          46,
          47,
          48,
          49,
          50,
          51,
          52,
          53,
          54,
          55,
          56,
          57,
          58,
          59,
          60,
          61,
          62,
          63,
          64,
          65,
          66,
          67,
          68,
          69,
          70,
          71,
          72,
          73,
          74,
          75,
          76,
          77,
          78,
          79,
          80,
          81,
          82,
          83,
          84,
          85,
          86,
          87,
          88,
          89,
          90,
          91,
          92,
          93,
          94,
          95,
          96,
          97,
          98,
          99,
          100,
          101,
          102,
          103,
          104,
          105,
          106,
          107,
          108,
          109,
          110,
          111,
          112,
          113,
          114,
          115,
          116,
          117,
          118,
          119,
          120,
          121,
          122,
          123,
          124,
          125,
          126,
          127,
          128,
          129,
          130,
          131,
          132,
          133,
          134,
          135,
          136,
          137,
          138,
          139,
          140,
          141,
          142,
          143,
          144,
          145,
          146,
          147,
          148,
          149,
          150,
          151,
          152,
          153,
          154
         ],
         "y": [
          0.06542937457561493,
          0.05077570676803589,
          0.06306235492229462,
          0.1071794256567955,
          0.10861821472644806,
          0.060562532395124435,
          0.0038341733161360025,
          0.0024397580418735743,
          0.006587641313672066,
          0.0439765490591526,
          0.010248932056128979,
          0.0005090017220936716,
          0.05197424814105034,
          0.11879903078079224,
          0.12947063148021698,
          0.06678633391857147,
          0.007442437577992678,
          0.11601965129375458,
          0.06661426275968552,
          0.00018889391503762454,
          0.006624483037739992,
          0.05448593199253082,
          0.0010938618797808886,
          0.000007646078302059323,
          0.0000021907360405748477,
          8.12257951565698e-7,
          2.0019422564132583e-8,
          0.000035352077247807756,
          0.0000015174155123531818,
          0.03289984539151192,
          0.1472439467906952,
          0.06893595308065414,
          0.05571436882019043,
          0.09313264489173889,
          0.0008937754901126027,
          0.00003371126513229683,
          0.008584054186940193,
          0.0156242735683918,
          0.0033536923583596945,
          0.016297126188874245,
          0.02852768823504448,
          0.011152369901537895,
          0.02183082140982151,
          0.0031689307652413845,
          0.0005682770279236138,
          0.11420748382806778,
          0.10440903156995773,
          0.005681824404746294,
          0.0014372681034728885,
          0.006794845685362816,
          0.007144998759031296,
          0.0021836552768945694,
          0.0006655494216829538,
          0.010468102991580963,
          0.00034024883643724024,
          6.839918000878242e-7,
          3.9897031456348486e-7,
          8.362894732272252e-8,
          6.153467957403791e-9,
          0.000003726427621586481,
          0.000006907578608661424,
          0.001608758931979537,
          0.0083583639934659,
          0.02132268436253071,
          0.07478832453489304,
          0.0005958534311503172,
          0.000003555908051566803,
          0.0026930514723062515,
          0.16253645718097687,
          0.00062418362358585,
          0.0016901129856705666,
          0.00714212516322732,
          0.00010883294453378767,
          0.0008238417794927955,
          0.011385894380509853,
          0.000017636977645452134,
          0.000093107606517151,
          9.57076963459258e-7,
          1.4677318915801152e-7,
          1.0969739783206478e-8,
          0.0000016026708635763498,
          0.000008139390956785064,
          0.0012405004817992449,
          0.013468235731124878,
          0.01256317924708128,
          0.0017708217492327094,
          0.0006760879186913371,
          0.0040287356823682785,
          0.0010137067874893546,
          0.00011984468437731266,
          0.00023190896899905056,
          0.00003193492739228532,
          0.0010677914833649993,
          0.08821134269237518,
          0.01018791738897562,
          0.003246711101382971,
          0.0007159793167375028,
          0.0038540337700396776,
          0.00008746215462451801,
          0.0000167004454851849,
          0.0007988734287209809,
          0.0029819027986377478,
          0.0006438151467591524,
          0.008430616930127144,
          0.0009526596404612064,
          0.0000010845105862244964,
          2.7794222035026905e-8,
          4.381837754863227e-7,
          0.0000025611675482650753,
          8.297817544189456e-8,
          6.4993579407257585e-9,
          0.0000034726238027360523,
          0.000001979148692043964,
          0.0005086290184408426,
          0.004807662218809128,
          0.09223712235689163,
          0.0168620515614748,
          0.0010972237214446068,
          0.007664232514798641,
          0.0006646670517511666,
          0.004264081362634897,
          0.0001506871049059555,
          0.02267201989889145,
          0.003139626234769821,
          0.0019495245069265366,
          0.0034405940677970648,
          0.0006922770407982171,
          0.0008511854102835059,
          0.040761493146419525,
          0.12970560789108276,
          0.01903071627020836,
          0.01642131805419922,
          0.0004934120224788785,
          0.00045951775973662734,
          0.0018034944077953696,
          0.00011054637434426695,
          0.0034149286802858114,
          0.0079463766887784,
          6.227821245374798e-7,
          1.2359564038888493e-7,
          6.577911335625686e-7,
          9.77721867911896e-8,
          2.625977657544354e-9,
          0.00000463775904790964,
          0.000009664528079156298,
          0.00036191585240885615,
          0.00030115549452602863,
          0.0004641675332095474,
          0.0012388848699629307,
          0.061851147562265396,
          0.003949119709432125,
          0.000027944028261117637,
          0.00003069510421482846,
          0.014275964349508286
         ]
        }
       ],
       "layout": {
        "autosize": true,
        "legend": {
         "orientation": "v",
         "title": {
          "text": "Probabilities"
         },
         "x": 1.05,
         "y": 1
        },
        "margin": {
         "b": 50,
         "l": 50,
         "r": 50,
         "t": 50
        },
        "template": {
         "data": {
          "bar": [
           {
            "error_x": {
             "color": "#2a3f5f"
            },
            "error_y": {
             "color": "#2a3f5f"
            },
            "marker": {
             "line": {
              "color": "#E5ECF6",
              "width": 0.5
             },
             "pattern": {
              "fillmode": "overlay",
              "size": 10,
              "solidity": 0.2
             }
            },
            "type": "bar"
           }
          ],
          "barpolar": [
           {
            "marker": {
             "line": {
              "color": "#E5ECF6",
              "width": 0.5
             },
             "pattern": {
              "fillmode": "overlay",
              "size": 10,
              "solidity": 0.2
             }
            },
            "type": "barpolar"
           }
          ],
          "carpet": [
           {
            "aaxis": {
             "endlinecolor": "#2a3f5f",
             "gridcolor": "white",
             "linecolor": "white",
             "minorgridcolor": "white",
             "startlinecolor": "#2a3f5f"
            },
            "baxis": {
             "endlinecolor": "#2a3f5f",
             "gridcolor": "white",
             "linecolor": "white",
             "minorgridcolor": "white",
             "startlinecolor": "#2a3f5f"
            },
            "type": "carpet"
           }
          ],
          "choropleth": [
           {
            "colorbar": {
             "outlinewidth": 0,
             "ticks": ""
            },
            "type": "choropleth"
           }
          ],
          "contour": [
           {
            "colorbar": {
             "outlinewidth": 0,
             "ticks": ""
            },
            "colorscale": [
             [
              0,
              "#0d0887"
             ],
             [
              0.1111111111111111,
              "#46039f"
             ],
             [
              0.2222222222222222,
              "#7201a8"
             ],
             [
              0.3333333333333333,
              "#9c179e"
             ],
             [
              0.4444444444444444,
              "#bd3786"
             ],
             [
              0.5555555555555556,
              "#d8576b"
             ],
             [
              0.6666666666666666,
              "#ed7953"
             ],
             [
              0.7777777777777778,
              "#fb9f3a"
             ],
             [
              0.8888888888888888,
              "#fdca26"
             ],
             [
              1,
              "#f0f921"
             ]
            ],
            "type": "contour"
           }
          ],
          "contourcarpet": [
           {
            "colorbar": {
             "outlinewidth": 0,
             "ticks": ""
            },
            "type": "contourcarpet"
           }
          ],
          "heatmap": [
           {
            "colorbar": {
             "outlinewidth": 0,
             "ticks": ""
            },
            "colorscale": [
             [
              0,
              "#0d0887"
             ],
             [
              0.1111111111111111,
              "#46039f"
             ],
             [
              0.2222222222222222,
              "#7201a8"
             ],
             [
              0.3333333333333333,
              "#9c179e"
             ],
             [
              0.4444444444444444,
              "#bd3786"
             ],
             [
              0.5555555555555556,
              "#d8576b"
             ],
             [
              0.6666666666666666,
              "#ed7953"
             ],
             [
              0.7777777777777778,
              "#fb9f3a"
             ],
             [
              0.8888888888888888,
              "#fdca26"
             ],
             [
              1,
              "#f0f921"
             ]
            ],
            "type": "heatmap"
           }
          ],
          "heatmapgl": [
           {
            "colorbar": {
             "outlinewidth": 0,
             "ticks": ""
            },
            "colorscale": [
             [
              0,
              "#0d0887"
             ],
             [
              0.1111111111111111,
              "#46039f"
             ],
             [
              0.2222222222222222,
              "#7201a8"
             ],
             [
              0.3333333333333333,
              "#9c179e"
             ],
             [
              0.4444444444444444,
              "#bd3786"
             ],
             [
              0.5555555555555556,
              "#d8576b"
             ],
             [
              0.6666666666666666,
              "#ed7953"
             ],
             [
              0.7777777777777778,
              "#fb9f3a"
             ],
             [
              0.8888888888888888,
              "#fdca26"
             ],
             [
              1,
              "#f0f921"
             ]
            ],
            "type": "heatmapgl"
           }
          ],
          "histogram": [
           {
            "marker": {
             "pattern": {
              "fillmode": "overlay",
              "size": 10,
              "solidity": 0.2
             }
            },
            "type": "histogram"
           }
          ],
          "histogram2d": [
           {
            "colorbar": {
             "outlinewidth": 0,
             "ticks": ""
            },
            "colorscale": [
             [
              0,
              "#0d0887"
             ],
             [
              0.1111111111111111,
              "#46039f"
             ],
             [
              0.2222222222222222,
              "#7201a8"
             ],
             [
              0.3333333333333333,
              "#9c179e"
             ],
             [
              0.4444444444444444,
              "#bd3786"
             ],
             [
              0.5555555555555556,
              "#d8576b"
             ],
             [
              0.6666666666666666,
              "#ed7953"
             ],
             [
              0.7777777777777778,
              "#fb9f3a"
             ],
             [
              0.8888888888888888,
              "#fdca26"
             ],
             [
              1,
              "#f0f921"
             ]
            ],
            "type": "histogram2d"
           }
          ],
          "histogram2dcontour": [
           {
            "colorbar": {
             "outlinewidth": 0,
             "ticks": ""
            },
            "colorscale": [
             [
              0,
              "#0d0887"
             ],
             [
              0.1111111111111111,
              "#46039f"
             ],
             [
              0.2222222222222222,
              "#7201a8"
             ],
             [
              0.3333333333333333,
              "#9c179e"
             ],
             [
              0.4444444444444444,
              "#bd3786"
             ],
             [
              0.5555555555555556,
              "#d8576b"
             ],
             [
              0.6666666666666666,
              "#ed7953"
             ],
             [
              0.7777777777777778,
              "#fb9f3a"
             ],
             [
              0.8888888888888888,
              "#fdca26"
             ],
             [
              1,
              "#f0f921"
             ]
            ],
            "type": "histogram2dcontour"
           }
          ],
          "mesh3d": [
           {
            "colorbar": {
             "outlinewidth": 0,
             "ticks": ""
            },
            "type": "mesh3d"
           }
          ],
          "parcoords": [
           {
            "line": {
             "colorbar": {
              "outlinewidth": 0,
              "ticks": ""
             }
            },
            "type": "parcoords"
           }
          ],
          "pie": [
           {
            "automargin": true,
            "type": "pie"
           }
          ],
          "scatter": [
           {
            "fillpattern": {
             "fillmode": "overlay",
             "size": 10,
             "solidity": 0.2
            },
            "type": "scatter"
           }
          ],
          "scatter3d": [
           {
            "line": {
             "colorbar": {
              "outlinewidth": 0,
              "ticks": ""
             }
            },
            "marker": {
             "colorbar": {
              "outlinewidth": 0,
              "ticks": ""
             }
            },
            "type": "scatter3d"
           }
          ],
          "scattercarpet": [
           {
            "marker": {
             "colorbar": {
              "outlinewidth": 0,
              "ticks": ""
             }
            },
            "type": "scattercarpet"
           }
          ],
          "scattergeo": [
           {
            "marker": {
             "colorbar": {
              "outlinewidth": 0,
              "ticks": ""
             }
            },
            "type": "scattergeo"
           }
          ],
          "scattergl": [
           {
            "marker": {
             "colorbar": {
              "outlinewidth": 0,
              "ticks": ""
             }
            },
            "type": "scattergl"
           }
          ],
          "scattermapbox": [
           {
            "marker": {
             "colorbar": {
              "outlinewidth": 0,
              "ticks": ""
             }
            },
            "type": "scattermapbox"
           }
          ],
          "scatterpolar": [
           {
            "marker": {
             "colorbar": {
              "outlinewidth": 0,
              "ticks": ""
             }
            },
            "type": "scatterpolar"
           }
          ],
          "scatterpolargl": [
           {
            "marker": {
             "colorbar": {
              "outlinewidth": 0,
              "ticks": ""
             }
            },
            "type": "scatterpolargl"
           }
          ],
          "scatterternary": [
           {
            "marker": {
             "colorbar": {
              "outlinewidth": 0,
              "ticks": ""
             }
            },
            "type": "scatterternary"
           }
          ],
          "surface": [
           {
            "colorbar": {
             "outlinewidth": 0,
             "ticks": ""
            },
            "colorscale": [
             [
              0,
              "#0d0887"
             ],
             [
              0.1111111111111111,
              "#46039f"
             ],
             [
              0.2222222222222222,
              "#7201a8"
             ],
             [
              0.3333333333333333,
              "#9c179e"
             ],
             [
              0.4444444444444444,
              "#bd3786"
             ],
             [
              0.5555555555555556,
              "#d8576b"
             ],
             [
              0.6666666666666666,
              "#ed7953"
             ],
             [
              0.7777777777777778,
              "#fb9f3a"
             ],
             [
              0.8888888888888888,
              "#fdca26"
             ],
             [
              1,
              "#f0f921"
             ]
            ],
            "type": "surface"
           }
          ],
          "table": [
           {
            "cells": {
             "fill": {
              "color": "#EBF0F8"
             },
             "line": {
              "color": "white"
             }
            },
            "header": {
             "fill": {
              "color": "#C8D4E3"
             },
             "line": {
              "color": "white"
             }
            },
            "type": "table"
           }
          ]
         },
         "layout": {
          "annotationdefaults": {
           "arrowcolor": "#2a3f5f",
           "arrowhead": 0,
           "arrowwidth": 1
          },
          "autotypenumbers": "strict",
          "coloraxis": {
           "colorbar": {
            "outlinewidth": 0,
            "ticks": ""
           }
          },
          "colorscale": {
           "diverging": [
            [
             0,
             "#8e0152"
            ],
            [
             0.1,
             "#c51b7d"
            ],
            [
             0.2,
             "#de77ae"
            ],
            [
             0.3,
             "#f1b6da"
            ],
            [
             0.4,
             "#fde0ef"
            ],
            [
             0.5,
             "#f7f7f7"
            ],
            [
             0.6,
             "#e6f5d0"
            ],
            [
             0.7,
             "#b8e186"
            ],
            [
             0.8,
             "#7fbc41"
            ],
            [
             0.9,
             "#4d9221"
            ],
            [
             1,
             "#276419"
            ]
           ],
           "sequential": [
            [
             0,
             "#0d0887"
            ],
            [
             0.1111111111111111,
             "#46039f"
            ],
            [
             0.2222222222222222,
             "#7201a8"
            ],
            [
             0.3333333333333333,
             "#9c179e"
            ],
            [
             0.4444444444444444,
             "#bd3786"
            ],
            [
             0.5555555555555556,
             "#d8576b"
            ],
            [
             0.6666666666666666,
             "#ed7953"
            ],
            [
             0.7777777777777778,
             "#fb9f3a"
            ],
            [
             0.8888888888888888,
             "#fdca26"
            ],
            [
             1,
             "#f0f921"
            ]
           ],
           "sequentialminus": [
            [
             0,
             "#0d0887"
            ],
            [
             0.1111111111111111,
             "#46039f"
            ],
            [
             0.2222222222222222,
             "#7201a8"
            ],
            [
             0.3333333333333333,
             "#9c179e"
            ],
            [
             0.4444444444444444,
             "#bd3786"
            ],
            [
             0.5555555555555556,
             "#d8576b"
            ],
            [
             0.6666666666666666,
             "#ed7953"
            ],
            [
             0.7777777777777778,
             "#fb9f3a"
            ],
            [
             0.8888888888888888,
             "#fdca26"
            ],
            [
             1,
             "#f0f921"
            ]
           ]
          },
          "colorway": [
           "#636efa",
           "#EF553B",
           "#00cc96",
           "#ab63fa",
           "#FFA15A",
           "#19d3f3",
           "#FF6692",
           "#B6E880",
           "#FF97FF",
           "#FECB52"
          ],
          "font": {
           "color": "#2a3f5f"
          },
          "geo": {
           "bgcolor": "white",
           "lakecolor": "white",
           "landcolor": "#E5ECF6",
           "showlakes": true,
           "showland": true,
           "subunitcolor": "white"
          },
          "hoverlabel": {
           "align": "left"
          },
          "hovermode": "closest",
          "mapbox": {
           "style": "light"
          },
          "paper_bgcolor": "white",
          "plot_bgcolor": "#E5ECF6",
          "polar": {
           "angularaxis": {
            "gridcolor": "white",
            "linecolor": "white",
            "ticks": ""
           },
           "bgcolor": "#E5ECF6",
           "radialaxis": {
            "gridcolor": "white",
            "linecolor": "white",
            "ticks": ""
           }
          },
          "scene": {
           "xaxis": {
            "backgroundcolor": "#E5ECF6",
            "gridcolor": "white",
            "gridwidth": 2,
            "linecolor": "white",
            "showbackground": true,
            "ticks": "",
            "zerolinecolor": "white"
           },
           "yaxis": {
            "backgroundcolor": "#E5ECF6",
            "gridcolor": "white",
            "gridwidth": 2,
            "linecolor": "white",
            "showbackground": true,
            "ticks": "",
            "zerolinecolor": "white"
           },
           "zaxis": {
            "backgroundcolor": "#E5ECF6",
            "gridcolor": "white",
            "gridwidth": 2,
            "linecolor": "white",
            "showbackground": true,
            "ticks": "",
            "zerolinecolor": "white"
           }
          },
          "shapedefaults": {
           "line": {
            "color": "#2a3f5f"
           }
          },
          "ternary": {
           "aaxis": {
            "gridcolor": "white",
            "linecolor": "white",
            "ticks": ""
           },
           "baxis": {
            "gridcolor": "white",
            "linecolor": "white",
            "ticks": ""
           },
           "bgcolor": "#E5ECF6",
           "caxis": {
            "gridcolor": "white",
            "linecolor": "white",
            "ticks": ""
           }
          },
          "title": {
           "x": 0.05
          },
          "xaxis": {
           "automargin": true,
           "gridcolor": "white",
           "linecolor": "white",
           "ticks": "",
           "title": {
            "standoff": 15
           },
           "zerolinecolor": "white",
           "zerolinewidth": 2
          },
          "yaxis": {
           "automargin": true,
           "gridcolor": "white",
           "linecolor": "white",
           "ticks": "",
           "title": {
            "standoff": 15
           },
           "zerolinecolor": "white",
           "zerolinewidth": 2
          }
         }
        },
        "title": {
         "text": "Top-3 Token Probabilities at Each Generation Step"
        },
        "xaxis": {
         "title": {
          "text": "Token Position"
         }
        },
        "yaxis": {
         "title": {
          "text": "Probability"
         }
        }
       }
      }
     },
     "metadata": {},
     "output_type": "display_data"
    },
    {
     "name": "stdout",
     "output_type": "stream",
     "text": [
      "Plot saved as HTML at: outputs/topk_plot_20241204_135349.html\n"
     ]
    }
   ],
   "source": [
    "set_seed(12345)\n",
    "\n",
    "ans_data = generate_answer(\n",
    "    question_to_prompt(test_qnas[sample_i]), \n",
    "    top_k=3,\n",
    ")\n",
    "visualize_topk_plotly(\n",
    "    ans_data, \n",
    "    save_html=True,\n",
    ")"
   ]
  },
  {
   "cell_type": "code",
   "execution_count": 12,
   "metadata": {},
   "outputs": [
    {
     "data": {
      "text/plain": [
       "{'generated_length': 154,\n",
       " 'sum_logits_top1_top2_diff': 872.7656,\n",
       " 'avg_logits_top1_top2_diff': 5.6673093,\n",
       " 'min_logits_top1_top2_diff': 0.015625,\n",
       " 'sum_logits_top1': 3767.8438,\n",
       " 'avg_logits_top1': 24.466518,\n",
       " 'min_logits_top1': 16.3125,\n",
       " 'sum_prob_top1_top2_diff': 124.82466,\n",
       " 'avg_prob_top1_top2_diff': 0.81054974,\n",
       " 'min_prob_top1_top2_diff': 0.0037948787,\n",
       " 'sum_prob_top1': 134.74902,\n",
       " 'avg_prob_top1': 0.8749937,\n",
       " 'min_prob_top1': 0.22887741}"
      ]
     },
     "execution_count": 12,
     "metadata": {},
     "output_type": "execute_result"
    }
   ],
   "source": [
    "top1_probs = ans_data['topk_probabilities'][:, 0].numpy()\n",
    "top2_probs = ans_data['topk_probabilities'][:, 1].numpy()\n",
    "top1_logits = ans_data['topk_logits'][:, 0].numpy()\n",
    "top2_logits = ans_data['topk_logits'][:, 1].numpy()\n",
    "\n",
    "features = {\n",
    "    'generated_length': ans_data['generated_token_len'],\n",
    "    'sum_logits_top1_top2_diff': (top1_logits - top2_logits).sum(),\n",
    "    'avg_logits_top1_top2_diff': (top1_logits - top2_logits).mean(),\n",
    "    'min_logits_top1_top2_diff': (top1_logits - top2_logits).min(),\n",
    "    'sum_logits_top1': top1_logits.sum(),\n",
    "    'avg_logits_top1': top1_logits.mean(),\n",
    "    'min_logits_top1': top1_logits.min(),\n",
    "    'sum_prob_top1_top2_diff': (top1_probs - top2_probs).sum(),\n",
    "    'avg_prob_top1_top2_diff': (top1_probs - top2_probs).mean(),\n",
    "    'min_prob_top1_top2_diff': (top1_probs - top2_probs).min(),\n",
    "    'sum_prob_top1': top1_probs.sum(),\n",
    "    'avg_prob_top1': top1_probs.mean(),\n",
    "    'min_prob_top1': top1_probs.min(),\n",
    "}\n",
    "\n",
    "features"
   ]
  },
  {
   "cell_type": "code",
   "execution_count": 32,
   "metadata": {},
   "outputs": [],
   "source": [
    "import pandas as pd\n",
    "import matplotlib.pyplot as plt\n",
    "from matplotlib.backends.backend_pdf import PdfPages\n",
    "from datetime import datetime\n",
    "import os\n",
    "\n",
    "def visualize_topk_matplotlib(ans_data, save_pdf=False, show_text=True):\n",
    "    # Prepare data\n",
    "    data = []\n",
    "    for i in range(ans_data['generated_token_len']):\n",
    "        row = {\n",
    "            'Token Position': i + 1,\n",
    "            'Generated Token': ans_data['generated_tokens'][i],\n",
    "            'Top-1 Token': ans_data['topk_tokens'][i][0],\n",
    "            'Top-1 Probability': ans_data['topk_probabilities'][i][0].item(),\n",
    "            'Top-2 Token': ans_data['topk_tokens'][i][1],\n",
    "            'Top-2 Probability': ans_data['topk_probabilities'][i][1].item(),\n",
    "        }\n",
    "        data.append(row)\n",
    "    df = pd.DataFrame(data)\n",
    "\n",
    "    # Print the generated sequence\n",
    "    print(''.join(df['Generated Token'].values))\n",
    "\n",
    "    # Plotting\n",
    "    plt.figure(figsize=(20, 5))\n",
    "\n",
    "    for rank, (prob_column, token_column) in enumerate(\n",
    "        [(\"Top-1 Probability\", \"Top-1 Token\"), \n",
    "         (\"Top-2 Probability\", \"Top-2 Token\")], start=1):\n",
    "        \n",
    "        plt.plot(\n",
    "            df['Token Position'],\n",
    "            df[prob_column],\n",
    "            marker='o',\n",
    "            markersize=5,\n",
    "            label=f'Top-{rank} Probability'\n",
    "        )\n",
    "        \n",
    "        if show_text:\n",
    "            for i, txt in enumerate(df[token_column]):\n",
    "                offset = -0.03 if rank == 2 else 0.02  # Adjust text position: below for Top-2\n",
    "                plt.text(\n",
    "                    df['Token Position'][i],\n",
    "                    df[prob_column][i] + offset,\n",
    "                    txt,\n",
    "                    fontsize=8,\n",
    "                    ha='center',\n",
    "                    va='top' if rank == 2 else 'bottom'\n",
    "                )\n",
    "\n",
    "    # Plot styling\n",
    "    # plt.title(\"Top-2 Token Probabilities at Each Generation Step\")\n",
    "    plt.xlabel(\"Token Position\")\n",
    "    plt.ylabel(\"Probability\")\n",
    "    # plt.xticks(ticks=df['Token Position'], labels=df['Token Position'])  # Ensure integer ticks\n",
    "    # plt.legend(loc=\"upper left\")\n",
    "    # plt.grid(True)\n",
    "    plt.tight_layout()\n",
    "\n",
    "    # Save plot as PDF if requested\n",
    "    if save_pdf:\n",
    "        os.makedirs(\"outputs\", exist_ok=True)\n",
    "        timestamp = datetime.now().strftime(\"%Y%m%d_%H%M%S\")\n",
    "        pdf_path = f\"outputs/top2_plot_{timestamp}.pdf\"\n",
    "        with PdfPages(pdf_path) as pdf:\n",
    "            pdf.savefig()  # Save the current figure to the PDF\n",
    "        print(f\"Plot saved as PDF at: {pdf_path}\")\n",
    "\n",
    "    # Show plot\n",
    "    plt.show()\n"
   ]
  },
  {
   "cell_type": "code",
   "execution_count": 33,
   "metadata": {},
   "outputs": [
    {
     "name": "stdout",
     "output_type": "stream",
     "text": [
      "180 miles because he was 180 miles from home when he turned around.\n",
      "#### 180\n",
      "\n",
      "\n",
      "Plot saved as PDF at: outputs/top2_plot_20241204_141034.pdf\n"
     ]
    },
    {
     "data": {
      "image/png": "[encoded data removed]",
      "text/plain": [
       "<Figure size 2000x500 with 1 Axes>"
      ]
     },
     "metadata": {},
     "output_type": "display_data"
    }
   ],
   "source": [
    "set_seed(42)\n",
    "\n",
    "ans_data = generate_answer(question_to_prompt(test_qnas[sample_i]))\n",
    "\n",
    "visualize_topk_matplotlib(\n",
    "    ans_data, \n",
    "    save_pdf=True,\n",
    ")"
   ]
  },
  {
   "cell_type": "code",
   "execution_count": 34,
   "metadata": {},
   "outputs": [
    {
     "name": "stdout",
     "output_type": "stream",
     "text": [
      "180 miles because when he turned around, he was 3*60=<<3*60=180>>180 miles from home.\n",
      "He was only able to drive 4-2=<<4-2=2>>2 hours in the first four hours.\n",
      "In half an hour he goes 30*.5=<<30*.5=15>>15 miles.\n",
      "He then drives another 2-.5=<<2-.5=1.5>>1.5 hours\n",
      "In that time he goes 80*1.5=<<80*1.5=120>>120 miles\n",
      "So he drove 120+15=<<120+15=135>>135 miles\n",
      "So he is 180-135=<<180-135=45>>45 miles away from home\n",
      "#### 45\n",
      "\n",
      "\n",
      "Plot saved as PDF at: outputs/top2_plot_20241204_141439.pdf\n"
     ]
    },
    {
     "data": {
      "image/png": "[encoded data removed]",
      "text/plain": [
       "<Figure size 2000x500 with 1 Axes>"
      ]
     },
     "metadata": {},
     "output_type": "display_data"
    }
   ],
   "source": [
    "set_seed(12345)\n",
    "\n",
    "ans_data = generate_answer(\n",
    "    question_to_prompt(test_qnas[sample_i]), \n",
    "    top_k=2,\n",
    ")\n",
    "visualize_topk_matplotlib(\n",
    "    ans_data, \n",
    "    save_pdf=True,\n",
    ")"
   ]
  },
  {
   "cell_type": "code",
   "execution_count": null,
   "metadata": {},
   "outputs": [],
   "source": []
  }
 ],
 "metadata": {
  "kernelspec": {
   "display_name": "Python 3",
   "language": "python",
   "name": "python3"
  },
  "language_info": {
   "codemirror_mode": {
    "name": "ipython",
    "version": 3
   },
   "file_extension": ".py",
   "mimetype": "text/x-python",
   "name": "python",
   "nbconvert_exporter": "python",
   "pygments_lexer": "ipython3",
   "version": "3.11.9"
  }
 },
 "nbformat": 4,
 "nbformat_minor": 2
}
